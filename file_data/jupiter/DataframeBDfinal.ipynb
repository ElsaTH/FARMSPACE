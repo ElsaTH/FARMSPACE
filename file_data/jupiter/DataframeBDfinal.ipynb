{
 "metadata": {
  "language_info": {
   "codemirror_mode": {
    "name": "ipython",
    "version": 3
   },
   "file_extension": ".py",
   "mimetype": "text/x-python",
   "name": "python",
   "nbconvert_exporter": "python",
   "pygments_lexer": "ipython3",
   "version": "3.8.5-final"
  },
  "orig_nbformat": 2,
  "kernelspec": {
   "name": "Python 3.8.5 64-bit",
   "display_name": "Python 3.8.5 64-bit",
   "metadata": {
    "interpreter": {
     "hash": "aee8b7b246df8f9039afb4144a1f6fd8d2ca17a180786b69acc140d282b71a49"
    }
   }
  }
 },
 "nbformat": 4,
 "nbformat_minor": 2,
 "cells": [
  {
   "cell_type": "code",
   "execution_count": 2,
   "metadata": {},
   "outputs": [],
   "source": [
    "import pandas as pd"
   ]
  },
  {
   "source": [
    "### Direccion"
   ],
   "cell_type": "markdown",
   "metadata": {}
  },
  {
   "cell_type": "code",
   "execution_count": null,
   "metadata": {},
   "outputs": [],
   "source": [
    "CREATE TABLE Direccion\n",
    "         (direccionID     INT     AUTO_INCREMENT           NOT NULL,\n",
    "         productorID      INT                              NOT NULL,\n",
    "         Calle                  VARCHAR(100)                                NULL,\n",
    "         Numero                 VARCHAR(100)                                NULL,\n",
    "         Interseccion           VARCHAR(100)                                NULL,\n",
    "         DescripcionProvincia   VARCHAR(100)                                NULL,\n",
    "         DescripcionCanton      VARCHAR(100)                                NULL,\n",
    "         Latitud                INT                                         NULL,\n",
    "         Longitud               INT                                         NULL,\n",
    "         PRIMARY KEY (direccionID),\n",
    "         FOREIGN KEY (productorID) REFERENCES Productor(productorID))"
   ]
  },
  {
   "cell_type": "code",
   "execution_count": 12,
   "metadata": {},
   "outputs": [
    {
     "output_type": "execute_result",
     "data": {
      "text/plain": [
       "      productorID               Calle   Numero      Interseccion  \\\n",
       "0               1  VIA A PUERTO QUITO      S/N  MARGEN IZQUIERDO   \n",
       "1               2       MEDARDO SILVA   S4-252    AURORA ESTRADA   \n",
       "2               3     VIA SANTA ELENA     LT 1              Null   \n",
       "3               4       VIA SAN DIMAS      S/N  MARGEN IZQUIERDO   \n",
       "4               5       MEDARDO SILVA  S-4 252    AURORA ESTRADA   \n",
       "...           ...                 ...      ...               ...   \n",
       "3386         3387             PACHECO  OE6-144       JUAN GARZON   \n",
       "3387         3388   VIA A LA RUTA DOS      S/N  MARGEN IZQUIERDO   \n",
       "3388         3389        VIA LA SEXTA      S/N  MARGEN IZQUIERDO   \n",
       "3389         3390           PRINCIPAL     Null              Null   \n",
       "3390         3391     DIEGO VELASQUEZ  OE4-122    JHON F KENNEDY   \n",
       "\n",
       "     DescripcionProvincia        DescripcionCanton   Latitud   Longitud  \n",
       "0               PICHINCHA             PUERTO QUITO  0.160887 -79.226730  \n",
       "1               PICHINCHA                    QUITO -0.220164 -78.512327  \n",
       "2               PICHINCHA                    QUITO -0.220164 -78.512327  \n",
       "3               PICHINCHA  PEDRO VICENTE MALDONADO  0.086496 -79.052577  \n",
       "4               PICHINCHA                    QUITO -0.220164 -78.512327  \n",
       "...                   ...                      ...       ...        ...  \n",
       "3386            PICHINCHA                    QUITO -0.220164 -78.512327  \n",
       "3387            PICHINCHA             PUERTO QUITO  0.160887 -79.226730  \n",
       "3388            PICHINCHA             PUERTO QUITO  0.160887 -79.226730  \n",
       "3389            PICHINCHA            PEDRO MONCAYO -0.214998 -78.496884  \n",
       "3390            PICHINCHA                    QUITO -0.220164 -78.512327  \n",
       "\n",
       "[3391 rows x 8 columns]"
      ],
      "text/html": "<div>\n<style scoped>\n    .dataframe tbody tr th:only-of-type {\n        vertical-align: middle;\n    }\n\n    .dataframe tbody tr th {\n        vertical-align: top;\n    }\n\n    .dataframe thead th {\n        text-align: right;\n    }\n</style>\n<table border=\"1\" class=\"dataframe\">\n  <thead>\n    <tr style=\"text-align: right;\">\n      <th></th>\n      <th>productorID</th>\n      <th>Calle</th>\n      <th>Numero</th>\n      <th>Interseccion</th>\n      <th>DescripcionProvincia</th>\n      <th>DescripcionCanton</th>\n      <th>Latitud</th>\n      <th>Longitud</th>\n    </tr>\n  </thead>\n  <tbody>\n    <tr>\n      <th>0</th>\n      <td>1</td>\n      <td>VIA A PUERTO QUITO</td>\n      <td>S/N</td>\n      <td>MARGEN IZQUIERDO</td>\n      <td>PICHINCHA</td>\n      <td>PUERTO QUITO</td>\n      <td>0.160887</td>\n      <td>-79.226730</td>\n    </tr>\n    <tr>\n      <th>1</th>\n      <td>2</td>\n      <td>MEDARDO SILVA</td>\n      <td>S4-252</td>\n      <td>AURORA ESTRADA</td>\n      <td>PICHINCHA</td>\n      <td>QUITO</td>\n      <td>-0.220164</td>\n      <td>-78.512327</td>\n    </tr>\n    <tr>\n      <th>2</th>\n      <td>3</td>\n      <td>VIA SANTA ELENA</td>\n      <td>LT 1</td>\n      <td>Null</td>\n      <td>PICHINCHA</td>\n      <td>QUITO</td>\n      <td>-0.220164</td>\n      <td>-78.512327</td>\n    </tr>\n    <tr>\n      <th>3</th>\n      <td>4</td>\n      <td>VIA SAN DIMAS</td>\n      <td>S/N</td>\n      <td>MARGEN IZQUIERDO</td>\n      <td>PICHINCHA</td>\n      <td>PEDRO VICENTE MALDONADO</td>\n      <td>0.086496</td>\n      <td>-79.052577</td>\n    </tr>\n    <tr>\n      <th>4</th>\n      <td>5</td>\n      <td>MEDARDO SILVA</td>\n      <td>S-4 252</td>\n      <td>AURORA ESTRADA</td>\n      <td>PICHINCHA</td>\n      <td>QUITO</td>\n      <td>-0.220164</td>\n      <td>-78.512327</td>\n    </tr>\n    <tr>\n      <th>...</th>\n      <td>...</td>\n      <td>...</td>\n      <td>...</td>\n      <td>...</td>\n      <td>...</td>\n      <td>...</td>\n      <td>...</td>\n      <td>...</td>\n    </tr>\n    <tr>\n      <th>3386</th>\n      <td>3387</td>\n      <td>PACHECO</td>\n      <td>OE6-144</td>\n      <td>JUAN GARZON</td>\n      <td>PICHINCHA</td>\n      <td>QUITO</td>\n      <td>-0.220164</td>\n      <td>-78.512327</td>\n    </tr>\n    <tr>\n      <th>3387</th>\n      <td>3388</td>\n      <td>VIA A LA RUTA DOS</td>\n      <td>S/N</td>\n      <td>MARGEN IZQUIERDO</td>\n      <td>PICHINCHA</td>\n      <td>PUERTO QUITO</td>\n      <td>0.160887</td>\n      <td>-79.226730</td>\n    </tr>\n    <tr>\n      <th>3388</th>\n      <td>3389</td>\n      <td>VIA LA SEXTA</td>\n      <td>S/N</td>\n      <td>MARGEN IZQUIERDO</td>\n      <td>PICHINCHA</td>\n      <td>PUERTO QUITO</td>\n      <td>0.160887</td>\n      <td>-79.226730</td>\n    </tr>\n    <tr>\n      <th>3389</th>\n      <td>3390</td>\n      <td>PRINCIPAL</td>\n      <td>Null</td>\n      <td>Null</td>\n      <td>PICHINCHA</td>\n      <td>PEDRO MONCAYO</td>\n      <td>-0.214998</td>\n      <td>-78.496884</td>\n    </tr>\n    <tr>\n      <th>3390</th>\n      <td>3391</td>\n      <td>DIEGO VELASQUEZ</td>\n      <td>OE4-122</td>\n      <td>JHON F KENNEDY</td>\n      <td>PICHINCHA</td>\n      <td>QUITO</td>\n      <td>-0.220164</td>\n      <td>-78.512327</td>\n    </tr>\n  </tbody>\n</table>\n<p>3391 rows × 8 columns</p>\n</div>"
     },
     "metadata": {},
     "execution_count": 12
    }
   ],
   "source": [
    "dfCoor = pd.read_csv(\"/Users/elsa/Desktop/Bootcamp The Bridge/The_Bridge/Ds_Bootcamp_Elsa/Ejercicios/Desafío de tripulaciones/Proyecto/csv_para_base_datos/direccion_id.csv\")\n",
    "dfCoor = dfCoor.rename(columns={'id_productor':'productorID','CALLE':'Calle',\n",
    "                        'NUMERO':'Numero','INTERSECCION':'Interseccion','DESCRIPCION_PROVINCIA':'DescripcionProvincia','DESCRIPCION_CANTON':'DescripcionCanton','Latitud':'Latitud','Longitud':'Longitud'})\n",
    "dfCoor"
   ]
  },
  {
   "cell_type": "code",
   "execution_count": 13,
   "metadata": {},
   "outputs": [
    {
     "output_type": "execute_result",
     "data": {
      "text/plain": [
       "      productorID                 Calle     Numero        Interseccion  \\\n",
       "0               1  \"VIA A PUERTO QUITO\"      \"S/N\"  \"MARGEN IZQUIERDO\"   \n",
       "1               2       \"MEDARDO SILVA\"   \"S4-252\"    \"AURORA ESTRADA\"   \n",
       "2               3     \"VIA SANTA ELENA\"     \"LT 1\"              \"Null\"   \n",
       "3               4       \"VIA SAN DIMAS\"      \"S/N\"  \"MARGEN IZQUIERDO\"   \n",
       "4               5       \"MEDARDO SILVA\"  \"S-4 252\"    \"AURORA ESTRADA\"   \n",
       "...           ...                   ...        ...                 ...   \n",
       "3386         3387             \"PACHECO\"  \"OE6-144\"       \"JUAN GARZON\"   \n",
       "3387         3388   \"VIA A LA RUTA DOS\"      \"S/N\"  \"MARGEN IZQUIERDO\"   \n",
       "3388         3389        \"VIA LA SEXTA\"      \"S/N\"  \"MARGEN IZQUIERDO\"   \n",
       "3389         3390           \"PRINCIPAL\"     \"Null\"              \"Null\"   \n",
       "3390         3391     \"DIEGO VELASQUEZ\"  \"OE4-122\"    \"JHON F KENNEDY\"   \n",
       "\n",
       "     DescripcionProvincia          DescripcionCanton                 Latitud  \\\n",
       "0             \"PICHINCHA\"             \"PUERTO QUITO\"             \"0.1608869\"   \n",
       "1             \"PICHINCHA\"                    \"QUITO\"            \"-0.2201641\"   \n",
       "2             \"PICHINCHA\"                    \"QUITO\"            \"-0.2201641\"   \n",
       "3             \"PICHINCHA\"  \"PEDRO VICENTE MALDONADO\"             \"0.0864955\"   \n",
       "4             \"PICHINCHA\"                    \"QUITO\"            \"-0.2201641\"   \n",
       "...                   ...                        ...                     ...   \n",
       "3386          \"PICHINCHA\"                    \"QUITO\"            \"-0.2201641\"   \n",
       "3387          \"PICHINCHA\"             \"PUERTO QUITO\"             \"0.1608869\"   \n",
       "3388          \"PICHINCHA\"             \"PUERTO QUITO\"             \"0.1608869\"   \n",
       "3389          \"PICHINCHA\"            \"PEDRO MONCAYO\"  \"-0.21499770000000004\"   \n",
       "3390          \"PICHINCHA\"                    \"QUITO\"            \"-0.2201641\"   \n",
       "\n",
       "                    Longitud  \n",
       "0     \"-79.22673035017803\");  \n",
       "1            \"-78.5123274\");  \n",
       "2            \"-78.5123274\");  \n",
       "3             \"-79.052577\");  \n",
       "4            \"-78.5123274\");  \n",
       "...                      ...  \n",
       "3386         \"-78.5123274\");  \n",
       "3387  \"-79.22673035017803\");  \n",
       "3388  \"-79.22673035017803\");  \n",
       "3389         \"-78.4968845\");  \n",
       "3390         \"-78.5123274\");  \n",
       "\n",
       "[3391 rows x 8 columns]"
      ],
      "text/html": "<div>\n<style scoped>\n    .dataframe tbody tr th:only-of-type {\n        vertical-align: middle;\n    }\n\n    .dataframe tbody tr th {\n        vertical-align: top;\n    }\n\n    .dataframe thead th {\n        text-align: right;\n    }\n</style>\n<table border=\"1\" class=\"dataframe\">\n  <thead>\n    <tr style=\"text-align: right;\">\n      <th></th>\n      <th>productorID</th>\n      <th>Calle</th>\n      <th>Numero</th>\n      <th>Interseccion</th>\n      <th>DescripcionProvincia</th>\n      <th>DescripcionCanton</th>\n      <th>Latitud</th>\n      <th>Longitud</th>\n    </tr>\n  </thead>\n  <tbody>\n    <tr>\n      <th>0</th>\n      <td>1</td>\n      <td>\"VIA A PUERTO QUITO\"</td>\n      <td>\"S/N\"</td>\n      <td>\"MARGEN IZQUIERDO\"</td>\n      <td>\"PICHINCHA\"</td>\n      <td>\"PUERTO QUITO\"</td>\n      <td>\"0.1608869\"</td>\n      <td>\"-79.22673035017803\");</td>\n    </tr>\n    <tr>\n      <th>1</th>\n      <td>2</td>\n      <td>\"MEDARDO SILVA\"</td>\n      <td>\"S4-252\"</td>\n      <td>\"AURORA ESTRADA\"</td>\n      <td>\"PICHINCHA\"</td>\n      <td>\"QUITO\"</td>\n      <td>\"-0.2201641\"</td>\n      <td>\"-78.5123274\");</td>\n    </tr>\n    <tr>\n      <th>2</th>\n      <td>3</td>\n      <td>\"VIA SANTA ELENA\"</td>\n      <td>\"LT 1\"</td>\n      <td>\"Null\"</td>\n      <td>\"PICHINCHA\"</td>\n      <td>\"QUITO\"</td>\n      <td>\"-0.2201641\"</td>\n      <td>\"-78.5123274\");</td>\n    </tr>\n    <tr>\n      <th>3</th>\n      <td>4</td>\n      <td>\"VIA SAN DIMAS\"</td>\n      <td>\"S/N\"</td>\n      <td>\"MARGEN IZQUIERDO\"</td>\n      <td>\"PICHINCHA\"</td>\n      <td>\"PEDRO VICENTE MALDONADO\"</td>\n      <td>\"0.0864955\"</td>\n      <td>\"-79.052577\");</td>\n    </tr>\n    <tr>\n      <th>4</th>\n      <td>5</td>\n      <td>\"MEDARDO SILVA\"</td>\n      <td>\"S-4 252\"</td>\n      <td>\"AURORA ESTRADA\"</td>\n      <td>\"PICHINCHA\"</td>\n      <td>\"QUITO\"</td>\n      <td>\"-0.2201641\"</td>\n      <td>\"-78.5123274\");</td>\n    </tr>\n    <tr>\n      <th>...</th>\n      <td>...</td>\n      <td>...</td>\n      <td>...</td>\n      <td>...</td>\n      <td>...</td>\n      <td>...</td>\n      <td>...</td>\n      <td>...</td>\n    </tr>\n    <tr>\n      <th>3386</th>\n      <td>3387</td>\n      <td>\"PACHECO\"</td>\n      <td>\"OE6-144\"</td>\n      <td>\"JUAN GARZON\"</td>\n      <td>\"PICHINCHA\"</td>\n      <td>\"QUITO\"</td>\n      <td>\"-0.2201641\"</td>\n      <td>\"-78.5123274\");</td>\n    </tr>\n    <tr>\n      <th>3387</th>\n      <td>3388</td>\n      <td>\"VIA A LA RUTA DOS\"</td>\n      <td>\"S/N\"</td>\n      <td>\"MARGEN IZQUIERDO\"</td>\n      <td>\"PICHINCHA\"</td>\n      <td>\"PUERTO QUITO\"</td>\n      <td>\"0.1608869\"</td>\n      <td>\"-79.22673035017803\");</td>\n    </tr>\n    <tr>\n      <th>3388</th>\n      <td>3389</td>\n      <td>\"VIA LA SEXTA\"</td>\n      <td>\"S/N\"</td>\n      <td>\"MARGEN IZQUIERDO\"</td>\n      <td>\"PICHINCHA\"</td>\n      <td>\"PUERTO QUITO\"</td>\n      <td>\"0.1608869\"</td>\n      <td>\"-79.22673035017803\");</td>\n    </tr>\n    <tr>\n      <th>3389</th>\n      <td>3390</td>\n      <td>\"PRINCIPAL\"</td>\n      <td>\"Null\"</td>\n      <td>\"Null\"</td>\n      <td>\"PICHINCHA\"</td>\n      <td>\"PEDRO MONCAYO\"</td>\n      <td>\"-0.21499770000000004\"</td>\n      <td>\"-78.4968845\");</td>\n    </tr>\n    <tr>\n      <th>3390</th>\n      <td>3391</td>\n      <td>\"DIEGO VELASQUEZ\"</td>\n      <td>\"OE4-122\"</td>\n      <td>\"JHON F KENNEDY\"</td>\n      <td>\"PICHINCHA\"</td>\n      <td>\"QUITO\"</td>\n      <td>\"-0.2201641\"</td>\n      <td>\"-78.5123274\");</td>\n    </tr>\n  </tbody>\n</table>\n<p>3391 rows × 8 columns</p>\n</div>"
     },
     "metadata": {},
     "execution_count": 13
    }
   ],
   "source": [
    "productorID = []\n",
    "Calle = []\n",
    "Numero = []\n",
    "Interseccion = []\n",
    "DescripcionProvincia = []\n",
    "DescripcionCanton = []\n",
    "Latitud = []\n",
    "Longitud = []\n",
    "\n",
    "for elem in dfCoor.productorID:\n",
    "    productorID.append(elem)\n",
    "for elem in dfCoor.Calle:\n",
    "    a = '\"'\n",
    "    Calle.append(a+str(elem)+a)\n",
    "for elem in dfCoor.Numero:\n",
    "    a = '\"'\n",
    "    Numero.append(a+str(elem)+a)\n",
    "for elem in dfCoor.Interseccion:\n",
    "    a = '\"'\n",
    "    Interseccion.append(a+str(elem)+a)\n",
    "for elem in dfCoor.DescripcionProvincia:\n",
    "    a = '\"'\n",
    "    DescripcionProvincia.append(a+str(elem)+a)\n",
    "for elem in dfCoor.DescripcionCanton:\n",
    "    a = '\"'\n",
    "    DescripcionCanton.append(a+str(elem)+a)\n",
    "for elem in dfCoor.Latitud:\n",
    "    a = '\"'\n",
    "    Latitud.append(a+str(elem)+a)\n",
    "for elem in dfCoor.Longitud:\n",
    "    a = '\"'\n",
    "    b = ');'\n",
    "    Longitud.append(a+str(elem)+a+b)\n",
    "\n",
    "    \n",
    "dfCoor = pd.DataFrame({\"productorID\":productorID,'Calle': Calle, 'Numero': Numero, 'Interseccion': Interseccion, 'DescripcionProvincia': DescripcionProvincia, 'DescripcionCanton': DescripcionCanton, 'Latitud': Latitud, 'Longitud': Longitud})\n",
    "\n",
    "dfCoor"
   ]
  },
  {
   "cell_type": "code",
   "execution_count": null,
   "metadata": {},
   "outputs": [],
   "source": [
    "dfCoor.to_csv('direccionlina.sql')"
   ]
  },
  {
   "cell_type": "code",
   "execution_count": null,
   "metadata": {},
   "outputs": [],
   "source": [
    "CREATE TABLE Productor\n",
    "         (productorID     INT     AUTO_INCREMENT      PRIMARY KEY     NOT NULL,\n",
    "         razonSocial        VARCHAR(100)                                NULL,\n",
    "         nombreComercial    VARCHAR(100)"
   ]
  },
  {
   "cell_type": "code",
   "execution_count": 6,
   "metadata": {},
   "outputs": [
    {
     "output_type": "execute_result",
     "data": {
      "text/plain": [
       "      productorID                        razonSocial           nombreComercial\n",
       "0               1     QUIROZ ALVEAR GERMAN FRANCISCO                      Null\n",
       "1               2     DONOSO JARAMILLO JOSE FERNANDO          FINCA EL PARAISO\n",
       "2               3     DONOSO JARAMILLO JOSE FERNANDO          FINCA EL PARAISO\n",
       "3               4     DONOSO JARAMILLO JOSE FERNANDO          FINCA EL PARAISO\n",
       "4               5     DONOSO JARAMILLO JOSE FERNANDO          FINCA EL PARAISO\n",
       "...           ...                                ...                       ...\n",
       "3386         3387  SARMIENTO GUALLPA MANUEL LEONARDO  FINCA HERMANOS SARMIENTO\n",
       "3387         3388     PEREZ QUEZADA CARLOS FRANCISCO                      Null\n",
       "3388         3389      LOPEZ VILLEGAS MILTON MARCELO                      Null\n",
       "3389         3390         PILA PUJOTA SEGUNDO SANTOS                      Null\n",
       "3390         3391                  ZILOAGRO CIA LTDA                      Null\n",
       "\n",
       "[3391 rows x 3 columns]"
      ],
      "text/html": "<div>\n<style scoped>\n    .dataframe tbody tr th:only-of-type {\n        vertical-align: middle;\n    }\n\n    .dataframe tbody tr th {\n        vertical-align: top;\n    }\n\n    .dataframe thead th {\n        text-align: right;\n    }\n</style>\n<table border=\"1\" class=\"dataframe\">\n  <thead>\n    <tr style=\"text-align: right;\">\n      <th></th>\n      <th>productorID</th>\n      <th>razonSocial</th>\n      <th>nombreComercial</th>\n    </tr>\n  </thead>\n  <tbody>\n    <tr>\n      <th>0</th>\n      <td>1</td>\n      <td>QUIROZ ALVEAR GERMAN FRANCISCO</td>\n      <td>Null</td>\n    </tr>\n    <tr>\n      <th>1</th>\n      <td>2</td>\n      <td>DONOSO JARAMILLO JOSE FERNANDO</td>\n      <td>FINCA EL PARAISO</td>\n    </tr>\n    <tr>\n      <th>2</th>\n      <td>3</td>\n      <td>DONOSO JARAMILLO JOSE FERNANDO</td>\n      <td>FINCA EL PARAISO</td>\n    </tr>\n    <tr>\n      <th>3</th>\n      <td>4</td>\n      <td>DONOSO JARAMILLO JOSE FERNANDO</td>\n      <td>FINCA EL PARAISO</td>\n    </tr>\n    <tr>\n      <th>4</th>\n      <td>5</td>\n      <td>DONOSO JARAMILLO JOSE FERNANDO</td>\n      <td>FINCA EL PARAISO</td>\n    </tr>\n    <tr>\n      <th>...</th>\n      <td>...</td>\n      <td>...</td>\n      <td>...</td>\n    </tr>\n    <tr>\n      <th>3386</th>\n      <td>3387</td>\n      <td>SARMIENTO GUALLPA MANUEL LEONARDO</td>\n      <td>FINCA HERMANOS SARMIENTO</td>\n    </tr>\n    <tr>\n      <th>3387</th>\n      <td>3388</td>\n      <td>PEREZ QUEZADA CARLOS FRANCISCO</td>\n      <td>Null</td>\n    </tr>\n    <tr>\n      <th>3388</th>\n      <td>3389</td>\n      <td>LOPEZ VILLEGAS MILTON MARCELO</td>\n      <td>Null</td>\n    </tr>\n    <tr>\n      <th>3389</th>\n      <td>3390</td>\n      <td>PILA PUJOTA SEGUNDO SANTOS</td>\n      <td>Null</td>\n    </tr>\n    <tr>\n      <th>3390</th>\n      <td>3391</td>\n      <td>ZILOAGRO CIA LTDA</td>\n      <td>Null</td>\n    </tr>\n  </tbody>\n</table>\n<p>3391 rows × 3 columns</p>\n</div>"
     },
     "metadata": {},
     "execution_count": 6
    }
   ],
   "source": [
    "df = pd.read_csv(\"/Users/elsa/Desktop/Bootcamp The Bridge/The_Bridge/Ds_Bootcamp_Elsa/Ejercicios/Desafío de tripulaciones/Proyecto/csv_para_base_datos/productores_id.csv\")\n",
    "df = df.rename(columns={'id_productor':'productorID','RAZON_SOCIAL':'razonSocial',\n",
    "                                   'NOMBRE_COMERCIAL':'nombreComercial'})\n",
    "\n",
    "df"
   ]
  },
  {
   "cell_type": "code",
   "execution_count": 7,
   "metadata": {},
   "outputs": [
    {
     "output_type": "execute_result",
     "data": {
      "text/plain": [
       "      productorID                          razonSocial  \\\n",
       "0               1     \"QUIROZ ALVEAR GERMAN FRANCISCO\"   \n",
       "1               2     \"DONOSO JARAMILLO JOSE FERNANDO\"   \n",
       "2               3     \"DONOSO JARAMILLO JOSE FERNANDO\"   \n",
       "3               4     \"DONOSO JARAMILLO JOSE FERNANDO\"   \n",
       "4               5     \"DONOSO JARAMILLO JOSE FERNANDO\"   \n",
       "...           ...                                  ...   \n",
       "3386         3387  \"SARMIENTO GUALLPA MANUEL LEONARDO\"   \n",
       "3387         3388     \"PEREZ QUEZADA CARLOS FRANCISCO\"   \n",
       "3388         3389      \"LOPEZ VILLEGAS MILTON MARCELO\"   \n",
       "3389         3390         \"PILA PUJOTA SEGUNDO SANTOS\"   \n",
       "3390         3391                  \"ZILOAGRO CIA LTDA\"   \n",
       "\n",
       "                   nombreComercial  \n",
       "0                         \"Null\");  \n",
       "1             \"FINCA EL PARAISO\");  \n",
       "2             \"FINCA EL PARAISO\");  \n",
       "3             \"FINCA EL PARAISO\");  \n",
       "4             \"FINCA EL PARAISO\");  \n",
       "...                            ...  \n",
       "3386  \"FINCA HERMANOS SARMIENTO\");  \n",
       "3387                      \"Null\");  \n",
       "3388                      \"Null\");  \n",
       "3389                      \"Null\");  \n",
       "3390                      \"Null\");  \n",
       "\n",
       "[3391 rows x 3 columns]"
      ],
      "text/html": "<div>\n<style scoped>\n    .dataframe tbody tr th:only-of-type {\n        vertical-align: middle;\n    }\n\n    .dataframe tbody tr th {\n        vertical-align: top;\n    }\n\n    .dataframe thead th {\n        text-align: right;\n    }\n</style>\n<table border=\"1\" class=\"dataframe\">\n  <thead>\n    <tr style=\"text-align: right;\">\n      <th></th>\n      <th>productorID</th>\n      <th>razonSocial</th>\n      <th>nombreComercial</th>\n    </tr>\n  </thead>\n  <tbody>\n    <tr>\n      <th>0</th>\n      <td>1</td>\n      <td>\"QUIROZ ALVEAR GERMAN FRANCISCO\"</td>\n      <td>\"Null\");</td>\n    </tr>\n    <tr>\n      <th>1</th>\n      <td>2</td>\n      <td>\"DONOSO JARAMILLO JOSE FERNANDO\"</td>\n      <td>\"FINCA EL PARAISO\");</td>\n    </tr>\n    <tr>\n      <th>2</th>\n      <td>3</td>\n      <td>\"DONOSO JARAMILLO JOSE FERNANDO\"</td>\n      <td>\"FINCA EL PARAISO\");</td>\n    </tr>\n    <tr>\n      <th>3</th>\n      <td>4</td>\n      <td>\"DONOSO JARAMILLO JOSE FERNANDO\"</td>\n      <td>\"FINCA EL PARAISO\");</td>\n    </tr>\n    <tr>\n      <th>4</th>\n      <td>5</td>\n      <td>\"DONOSO JARAMILLO JOSE FERNANDO\"</td>\n      <td>\"FINCA EL PARAISO\");</td>\n    </tr>\n    <tr>\n      <th>...</th>\n      <td>...</td>\n      <td>...</td>\n      <td>...</td>\n    </tr>\n    <tr>\n      <th>3386</th>\n      <td>3387</td>\n      <td>\"SARMIENTO GUALLPA MANUEL LEONARDO\"</td>\n      <td>\"FINCA HERMANOS SARMIENTO\");</td>\n    </tr>\n    <tr>\n      <th>3387</th>\n      <td>3388</td>\n      <td>\"PEREZ QUEZADA CARLOS FRANCISCO\"</td>\n      <td>\"Null\");</td>\n    </tr>\n    <tr>\n      <th>3388</th>\n      <td>3389</td>\n      <td>\"LOPEZ VILLEGAS MILTON MARCELO\"</td>\n      <td>\"Null\");</td>\n    </tr>\n    <tr>\n      <th>3389</th>\n      <td>3390</td>\n      <td>\"PILA PUJOTA SEGUNDO SANTOS\"</td>\n      <td>\"Null\");</td>\n    </tr>\n    <tr>\n      <th>3390</th>\n      <td>3391</td>\n      <td>\"ZILOAGRO CIA LTDA\"</td>\n      <td>\"Null\");</td>\n    </tr>\n  </tbody>\n</table>\n<p>3391 rows × 3 columns</p>\n</div>"
     },
     "metadata": {},
     "execution_count": 7
    }
   ],
   "source": [
    "productorID = []\n",
    "razonSocial = []\n",
    "nombreComercial = []\n",
    "\n",
    "for elem in df.productorID:\n",
    "    productorID.append(elem)\n",
    "for elem in df.razonSocial:\n",
    "    a = '\"'\n",
    "    razonSocial.append(a+str(elem)+a)\n",
    "for elem in df.nombreComercial:\n",
    "    a = '\"'\n",
    "    b = ');'\n",
    "    nombreComercial.append(a+str(elem)+a+b)\n",
    "\n",
    "\n",
    "    \n",
    "df = pd.DataFrame({\"productorID\":productorID,'razonSocial': razonSocial, 'nombreComercial': nombreComercial})\n",
    "\n",
    "df"
   ]
  },
  {
   "cell_type": "code",
   "execution_count": 8,
   "metadata": {},
   "outputs": [],
   "source": [
    "df.to_csv('productorlina.sql')"
   ]
  },
  {
   "source": [
    "### Producto"
   ],
   "cell_type": "markdown",
   "metadata": {}
  },
  {
   "cell_type": "code",
   "execution_count": 13,
   "metadata": {},
   "outputs": [
    {
     "output_type": "execute_result",
     "data": {
      "text/plain": [
       "      CIIU                                           Producto     IPP     IPC\n",
       "0  A011601                       CULTIVO DE SANDÍAS, MELONES.  1.1220  1.6830\n",
       "1  A012201                     CULTIVO DE BANANOS Y PLÁTANOS.  0.2990  0.4485\n",
       "2  A012801  CULTIVO DE ESPECIAS DEL GÉNERO CAPSICUM: AJÍES...  0.3917  0.5876\n",
       "3  A011122                                 CULTIVO DE ARVEJA.  0.4743  0.7114\n",
       "4  A021002  CULTIVO DE MONTE BAJO (ARBUSTOS), MADERA PARA ...  1.2901  1.9352"
      ],
      "text/html": "<div>\n<style scoped>\n    .dataframe tbody tr th:only-of-type {\n        vertical-align: middle;\n    }\n\n    .dataframe tbody tr th {\n        vertical-align: top;\n    }\n\n    .dataframe thead th {\n        text-align: right;\n    }\n</style>\n<table border=\"1\" class=\"dataframe\">\n  <thead>\n    <tr style=\"text-align: right;\">\n      <th></th>\n      <th>CIIU</th>\n      <th>Producto</th>\n      <th>IPP</th>\n      <th>IPC</th>\n    </tr>\n  </thead>\n  <tbody>\n    <tr>\n      <th>0</th>\n      <td>A011601</td>\n      <td>CULTIVO DE SANDÍAS, MELONES.</td>\n      <td>1.1220</td>\n      <td>1.6830</td>\n    </tr>\n    <tr>\n      <th>1</th>\n      <td>A012201</td>\n      <td>CULTIVO DE BANANOS Y PLÁTANOS.</td>\n      <td>0.2990</td>\n      <td>0.4485</td>\n    </tr>\n    <tr>\n      <th>2</th>\n      <td>A012801</td>\n      <td>CULTIVO DE ESPECIAS DEL GÉNERO CAPSICUM: AJÍES...</td>\n      <td>0.3917</td>\n      <td>0.5876</td>\n    </tr>\n    <tr>\n      <th>3</th>\n      <td>A011122</td>\n      <td>CULTIVO DE ARVEJA.</td>\n      <td>0.4743</td>\n      <td>0.7114</td>\n    </tr>\n    <tr>\n      <th>4</th>\n      <td>A021002</td>\n      <td>CULTIVO DE MONTE BAJO (ARBUSTOS), MADERA PARA ...</td>\n      <td>1.2901</td>\n      <td>1.9352</td>\n    </tr>\n  </tbody>\n</table>\n</div>"
     },
     "metadata": {},
     "execution_count": 13
    }
   ],
   "source": [
    "df1 = pd.read_csv(\"/Users/elsa/Desktop/Bootcamp The Bridge/The_Bridge/Ds_Bootcamp_Elsa/Ejercicios/Desafío de tripulaciones/Proyecto/csv_para_base_datos/productos_id.csv\")\n",
    "df1 = df1.rename(columns={'producto':'Producto'})\n",
    "df1.head()"
   ]
  },
  {
   "cell_type": "code",
   "execution_count": 15,
   "metadata": {},
   "outputs": [
    {
     "output_type": "execute_result",
     "data": {
      "text/plain": [
       "         CIIU                                           Producto     IPP  \\\n",
       "0   \"A011601\"                     \"CULTIVO DE SANDÍAS, MELONES.\"  1.1220   \n",
       "1   \"A012201\"                   \"CULTIVO DE BANANOS Y PLÁTANOS.\"  0.2990   \n",
       "2   \"A012801\"  \"CULTIVO DE ESPECIAS DEL GÉNERO CAPSICUM: AJÍE...  0.3917   \n",
       "3   \"A011122\"                               \"CULTIVO DE ARVEJA.\"  0.4743   \n",
       "4   \"A021002\"  \"CULTIVO DE MONTE BAJO (ARBUSTOS), MADERA PARA...  1.2901   \n",
       "5   \"A012100\"  \"CULTIVO DE UVAS PARA VINO Y UVAS PARA SER CON...  0.1872   \n",
       "6   \"A011113\"  \"CULTIVO DE ZANAHORIA AMARILLA, RÁBANO, REMOLA...  0.2499   \n",
       "7   \"A011112\"                                 \"CULTIVO DE MAÍZ.\"  0.2697   \n",
       "8   \"A012702\"                                \"CULTIVO DE CACAO.\"  1.9420   \n",
       "9   \"A012701\"                                 \"CULTIVO DE CAFÉ.\"  0.2736   \n",
       "10  \"A011601\"                              \"CULTIVO DE ALGODÓN.\"  2.6061   \n",
       "11  \"A011111\"                                \"CULTIVO DE TRIGO.\"  0.3942   \n",
       "12  \"A012802\"  \"CULTIVO DE ESPECIAS PERENNES Y NO PERENNES: N...  1.2628   \n",
       "13  \"A011603\"                        \"CULTIVO DE LINO Y CÁÑAMO.\"  0.2379   \n",
       "14  \"A012501\"  \"CULTIVO DE BAYAS GROSELLAS, GROSELLAS ESPINOS...  1.7653   \n",
       "15  \"A011123\"                              \"CULTIVO DE LENTEJA.\"  0.8209   \n",
       "16  \"A012502\"                     \"CULTIVO DE TOMATES DE ÁRBOL.\"  0.1695   \n",
       "17  \"A011391\"        \"CULTIVO DE HONGOS (CHAMPIÑONES) Y TRUFAS.\"  0.3140   \n",
       "18  \"A011113\"                               \"CULTIVO DE QUINUA.\"  1.7310   \n",
       "19  \"A011901\"  \"CULTIVO DE PLANTAS FORRAJERAS: NABOS FORRAJER...  2.4890   \n",
       "20  \"A012803\"  \"CULTIVO DE PLANTAS MEDICINALES, NARCÓTICAS Y ...  5.8723   \n",
       "21  \"A012902\"                              \"CULTIVO DE PALMITO.\"  0.4175   \n",
       "22  \"A012202\"                               \"CULTIVO DE MANGOS.\"  0.1090   \n",
       "23  \"A012601\"    \"CULTIVO DE PALMAS DE ACEITE (PALMA AFRICANA).\"  1.3998   \n",
       "24  \"A011331\"  \"CULTIVO DE CEBOLLAS PAITEÑAS, CEBOLLAS PERLA,...  0.3742   \n",
       "25  \"A011609\"              \"CULTIVO DE OTRAS PLANTAS DE FIBRAS.\"  0.2610   \n",
       "26  \"A012301\"                             \"CULTIVO DE NARANJAS.\"  0.1438   \n",
       "27  \"A011321\"                             \"CULTIVO DE MARACUYÁ.\"  0.6160   \n",
       "28  \"A011121\"                               \"CULTIVO DE FRÉJOL.\"  0.5880   \n",
       "29  \"A012204\"                                \"CULTIVO DE PIÑAS.\"  0.4114   \n",
       "30  \"A011903\"  \"CULTIVO DE FLORES, INCLUIDA LA PRODUCCIÓN DE ...  0.2870   \n",
       "31  \"A011341\"                                 \"CULTIVO DE PAPA.\"  0.2798   \n",
       "32  \"A011200\"  \"CULTIVO DE ARROZ (INCLUIDO EL CULTIVO ORGÁNIC...  0.2925   \n",
       "33  \"A012901\"  \"CULTIVO DE MATERIALES VEGETALES DE LOS TIPOS ...  0.4877   \n",
       "34  \"A012504\"  \"CULTIVOS DE NUECES COMESTIBLES: ALMENDRAS, AN...  0.7220   \n",
       "35  \"A011131\"            \"CULTIVO DE GRANOS Y SEMILLAS DE SOYA.\"  0.5769   \n",
       "36  \"A011400\"                       \"CULTIVO DE CAÑA DE AZÚCAR.\"  0.0317   \n",
       "37  \"A011321\"  \"CULTIVO DE TOMATES (EXCEPTO TOMATE DE ÁRBOL),...  0.4039   \n",
       "38  \"A011399\"                     \"CULTIVO DE OTRAS HORTALIZAS.\"  0.1810   \n",
       "39  \"A011342\"                                 \"CULTIVO DE YUCA.\"  0.1226   \n",
       "40  \"A011605\"  \"CULTIVO DE ALBACÁ, RAMIO Y OTRAS PLANTAS DE F...  0.6910   \n",
       "\n",
       "       IPC  \n",
       "0   1.6830  \n",
       "1   0.4485  \n",
       "2   0.5876  \n",
       "3   0.7114  \n",
       "4   1.9352  \n",
       "5   0.2808  \n",
       "6   0.3748  \n",
       "7   0.4045  \n",
       "8   2.9130  \n",
       "9   0.4104  \n",
       "10  3.9092  \n",
       "11  0.5913  \n",
       "12  1.8942  \n",
       "13  0.3568  \n",
       "14  2.6480  \n",
       "15  1.2314  \n",
       "16  0.2543  \n",
       "17  0.4710  \n",
       "18  2.5965  \n",
       "19  3.7335  \n",
       "20  8.8084  \n",
       "21  0.6262  \n",
       "22  0.1635  \n",
       "23  2.0997  \n",
       "24  0.5613  \n",
       "25  0.3915  \n",
       "26  0.2157  \n",
       "27  0.9240  \n",
       "28  0.8820  \n",
       "29  0.6171  \n",
       "30  0.4305  \n",
       "31  0.4197  \n",
       "32  0.4388  \n",
       "33  0.7316  \n",
       "34  1.0830  \n",
       "35  0.8654  \n",
       "36  0.0475  \n",
       "37  0.6058  \n",
       "38  0.2715  \n",
       "39  0.1839  \n",
       "40  1.0365  "
      ],
      "text/html": "<div>\n<style scoped>\n    .dataframe tbody tr th:only-of-type {\n        vertical-align: middle;\n    }\n\n    .dataframe tbody tr th {\n        vertical-align: top;\n    }\n\n    .dataframe thead th {\n        text-align: right;\n    }\n</style>\n<table border=\"1\" class=\"dataframe\">\n  <thead>\n    <tr style=\"text-align: right;\">\n      <th></th>\n      <th>CIIU</th>\n      <th>Producto</th>\n      <th>IPP</th>\n      <th>IPC</th>\n    </tr>\n  </thead>\n  <tbody>\n    <tr>\n      <th>0</th>\n      <td>\"A011601\"</td>\n      <td>\"CULTIVO DE SANDÍAS, MELONES.\"</td>\n      <td>1.1220</td>\n      <td>1.6830</td>\n    </tr>\n    <tr>\n      <th>1</th>\n      <td>\"A012201\"</td>\n      <td>\"CULTIVO DE BANANOS Y PLÁTANOS.\"</td>\n      <td>0.2990</td>\n      <td>0.4485</td>\n    </tr>\n    <tr>\n      <th>2</th>\n      <td>\"A012801\"</td>\n      <td>\"CULTIVO DE ESPECIAS DEL GÉNERO CAPSICUM: AJÍE...</td>\n      <td>0.3917</td>\n      <td>0.5876</td>\n    </tr>\n    <tr>\n      <th>3</th>\n      <td>\"A011122\"</td>\n      <td>\"CULTIVO DE ARVEJA.\"</td>\n      <td>0.4743</td>\n      <td>0.7114</td>\n    </tr>\n    <tr>\n      <th>4</th>\n      <td>\"A021002\"</td>\n      <td>\"CULTIVO DE MONTE BAJO (ARBUSTOS), MADERA PARA...</td>\n      <td>1.2901</td>\n      <td>1.9352</td>\n    </tr>\n    <tr>\n      <th>5</th>\n      <td>\"A012100\"</td>\n      <td>\"CULTIVO DE UVAS PARA VINO Y UVAS PARA SER CON...</td>\n      <td>0.1872</td>\n      <td>0.2808</td>\n    </tr>\n    <tr>\n      <th>6</th>\n      <td>\"A011113\"</td>\n      <td>\"CULTIVO DE ZANAHORIA AMARILLA, RÁBANO, REMOLA...</td>\n      <td>0.2499</td>\n      <td>0.3748</td>\n    </tr>\n    <tr>\n      <th>7</th>\n      <td>\"A011112\"</td>\n      <td>\"CULTIVO DE MAÍZ.\"</td>\n      <td>0.2697</td>\n      <td>0.4045</td>\n    </tr>\n    <tr>\n      <th>8</th>\n      <td>\"A012702\"</td>\n      <td>\"CULTIVO DE CACAO.\"</td>\n      <td>1.9420</td>\n      <td>2.9130</td>\n    </tr>\n    <tr>\n      <th>9</th>\n      <td>\"A012701\"</td>\n      <td>\"CULTIVO DE CAFÉ.\"</td>\n      <td>0.2736</td>\n      <td>0.4104</td>\n    </tr>\n    <tr>\n      <th>10</th>\n      <td>\"A011601\"</td>\n      <td>\"CULTIVO DE ALGODÓN.\"</td>\n      <td>2.6061</td>\n      <td>3.9092</td>\n    </tr>\n    <tr>\n      <th>11</th>\n      <td>\"A011111\"</td>\n      <td>\"CULTIVO DE TRIGO.\"</td>\n      <td>0.3942</td>\n      <td>0.5913</td>\n    </tr>\n    <tr>\n      <th>12</th>\n      <td>\"A012802\"</td>\n      <td>\"CULTIVO DE ESPECIAS PERENNES Y NO PERENNES: N...</td>\n      <td>1.2628</td>\n      <td>1.8942</td>\n    </tr>\n    <tr>\n      <th>13</th>\n      <td>\"A011603\"</td>\n      <td>\"CULTIVO DE LINO Y CÁÑAMO.\"</td>\n      <td>0.2379</td>\n      <td>0.3568</td>\n    </tr>\n    <tr>\n      <th>14</th>\n      <td>\"A012501\"</td>\n      <td>\"CULTIVO DE BAYAS GROSELLAS, GROSELLAS ESPINOS...</td>\n      <td>1.7653</td>\n      <td>2.6480</td>\n    </tr>\n    <tr>\n      <th>15</th>\n      <td>\"A011123\"</td>\n      <td>\"CULTIVO DE LENTEJA.\"</td>\n      <td>0.8209</td>\n      <td>1.2314</td>\n    </tr>\n    <tr>\n      <th>16</th>\n      <td>\"A012502\"</td>\n      <td>\"CULTIVO DE TOMATES DE ÁRBOL.\"</td>\n      <td>0.1695</td>\n      <td>0.2543</td>\n    </tr>\n    <tr>\n      <th>17</th>\n      <td>\"A011391\"</td>\n      <td>\"CULTIVO DE HONGOS (CHAMPIÑONES) Y TRUFAS.\"</td>\n      <td>0.3140</td>\n      <td>0.4710</td>\n    </tr>\n    <tr>\n      <th>18</th>\n      <td>\"A011113\"</td>\n      <td>\"CULTIVO DE QUINUA.\"</td>\n      <td>1.7310</td>\n      <td>2.5965</td>\n    </tr>\n    <tr>\n      <th>19</th>\n      <td>\"A011901\"</td>\n      <td>\"CULTIVO DE PLANTAS FORRAJERAS: NABOS FORRAJER...</td>\n      <td>2.4890</td>\n      <td>3.7335</td>\n    </tr>\n    <tr>\n      <th>20</th>\n      <td>\"A012803\"</td>\n      <td>\"CULTIVO DE PLANTAS MEDICINALES, NARCÓTICAS Y ...</td>\n      <td>5.8723</td>\n      <td>8.8084</td>\n    </tr>\n    <tr>\n      <th>21</th>\n      <td>\"A012902\"</td>\n      <td>\"CULTIVO DE PALMITO.\"</td>\n      <td>0.4175</td>\n      <td>0.6262</td>\n    </tr>\n    <tr>\n      <th>22</th>\n      <td>\"A012202\"</td>\n      <td>\"CULTIVO DE MANGOS.\"</td>\n      <td>0.1090</td>\n      <td>0.1635</td>\n    </tr>\n    <tr>\n      <th>23</th>\n      <td>\"A012601\"</td>\n      <td>\"CULTIVO DE PALMAS DE ACEITE (PALMA AFRICANA).\"</td>\n      <td>1.3998</td>\n      <td>2.0997</td>\n    </tr>\n    <tr>\n      <th>24</th>\n      <td>\"A011331\"</td>\n      <td>\"CULTIVO DE CEBOLLAS PAITEÑAS, CEBOLLAS PERLA,...</td>\n      <td>0.3742</td>\n      <td>0.5613</td>\n    </tr>\n    <tr>\n      <th>25</th>\n      <td>\"A011609\"</td>\n      <td>\"CULTIVO DE OTRAS PLANTAS DE FIBRAS.\"</td>\n      <td>0.2610</td>\n      <td>0.3915</td>\n    </tr>\n    <tr>\n      <th>26</th>\n      <td>\"A012301\"</td>\n      <td>\"CULTIVO DE NARANJAS.\"</td>\n      <td>0.1438</td>\n      <td>0.2157</td>\n    </tr>\n    <tr>\n      <th>27</th>\n      <td>\"A011321\"</td>\n      <td>\"CULTIVO DE MARACUYÁ.\"</td>\n      <td>0.6160</td>\n      <td>0.9240</td>\n    </tr>\n    <tr>\n      <th>28</th>\n      <td>\"A011121\"</td>\n      <td>\"CULTIVO DE FRÉJOL.\"</td>\n      <td>0.5880</td>\n      <td>0.8820</td>\n    </tr>\n    <tr>\n      <th>29</th>\n      <td>\"A012204\"</td>\n      <td>\"CULTIVO DE PIÑAS.\"</td>\n      <td>0.4114</td>\n      <td>0.6171</td>\n    </tr>\n    <tr>\n      <th>30</th>\n      <td>\"A011903\"</td>\n      <td>\"CULTIVO DE FLORES, INCLUIDA LA PRODUCCIÓN DE ...</td>\n      <td>0.2870</td>\n      <td>0.4305</td>\n    </tr>\n    <tr>\n      <th>31</th>\n      <td>\"A011341\"</td>\n      <td>\"CULTIVO DE PAPA.\"</td>\n      <td>0.2798</td>\n      <td>0.4197</td>\n    </tr>\n    <tr>\n      <th>32</th>\n      <td>\"A011200\"</td>\n      <td>\"CULTIVO DE ARROZ (INCLUIDO EL CULTIVO ORGÁNIC...</td>\n      <td>0.2925</td>\n      <td>0.4388</td>\n    </tr>\n    <tr>\n      <th>33</th>\n      <td>\"A012901\"</td>\n      <td>\"CULTIVO DE MATERIALES VEGETALES DE LOS TIPOS ...</td>\n      <td>0.4877</td>\n      <td>0.7316</td>\n    </tr>\n    <tr>\n      <th>34</th>\n      <td>\"A012504\"</td>\n      <td>\"CULTIVOS DE NUECES COMESTIBLES: ALMENDRAS, AN...</td>\n      <td>0.7220</td>\n      <td>1.0830</td>\n    </tr>\n    <tr>\n      <th>35</th>\n      <td>\"A011131\"</td>\n      <td>\"CULTIVO DE GRANOS Y SEMILLAS DE SOYA.\"</td>\n      <td>0.5769</td>\n      <td>0.8654</td>\n    </tr>\n    <tr>\n      <th>36</th>\n      <td>\"A011400\"</td>\n      <td>\"CULTIVO DE CAÑA DE AZÚCAR.\"</td>\n      <td>0.0317</td>\n      <td>0.0475</td>\n    </tr>\n    <tr>\n      <th>37</th>\n      <td>\"A011321\"</td>\n      <td>\"CULTIVO DE TOMATES (EXCEPTO TOMATE DE ÁRBOL),...</td>\n      <td>0.4039</td>\n      <td>0.6058</td>\n    </tr>\n    <tr>\n      <th>38</th>\n      <td>\"A011399\"</td>\n      <td>\"CULTIVO DE OTRAS HORTALIZAS.\"</td>\n      <td>0.1810</td>\n      <td>0.2715</td>\n    </tr>\n    <tr>\n      <th>39</th>\n      <td>\"A011342\"</td>\n      <td>\"CULTIVO DE YUCA.\"</td>\n      <td>0.1226</td>\n      <td>0.1839</td>\n    </tr>\n    <tr>\n      <th>40</th>\n      <td>\"A011605\"</td>\n      <td>\"CULTIVO DE ALBACÁ, RAMIO Y OTRAS PLANTAS DE F...</td>\n      <td>0.6910</td>\n      <td>1.0365</td>\n    </tr>\n  </tbody>\n</table>\n</div>"
     },
     "metadata": {},
     "execution_count": 15
    }
   ],
   "source": [
    "#Producto\n",
    "CIIU = []\n",
    "Producto = []\n",
    "IPP = []\n",
    "IPC = []\n",
    "\n",
    "for elem in df1.CIIU:\n",
    "    a = '\"'\n",
    "    CIIU.append(a+str(elem)+a)\n",
    "for elem in df1.Producto:\n",
    "    a = '\"'\n",
    "    Producto.append(a+str(elem)+a)\n",
    "for elem in df1.IPP:\n",
    "    IPP.append(elem)\n",
    "for elem in df1.IPC:\n",
    "    IPC.append(elem)\n",
    "\n",
    "\n",
    "    \n",
    "df1 = pd.DataFrame({\"CIIU\": CIIU,'Producto': Producto, 'IPP': IPP,'IPC': IPC})\n",
    "\n",
    "df1"
   ]
  },
  {
   "cell_type": "code",
   "execution_count": 16,
   "metadata": {},
   "outputs": [],
   "source": [
    "df1.to_csv('productolina.sql')"
   ]
  },
  {
   "source": [
    "### ProductorProducto"
   ],
   "cell_type": "markdown",
   "metadata": {}
  },
  {
   "cell_type": "code",
   "execution_count": null,
   "metadata": {},
   "outputs": [],
   "source": [
    "CREATE TABLE ProductorProducto\n",
    "        (productorID       INT    AUTO_INCREMENT  NOT NULL,\n",
    "        CIIU               VARCHAR(15)              NOT NULL,\n",
    "        PrecioProducto  INT                          NULL, \n",
    "        Stock       INT                          NULL,\n",
    "        PRIMARY KEY (productorID, CIIU),\n",
    "        FOREIGN KEY (CIIU) REFERENCES Producto(CIIU)\n",
    "        FOREIGN KEY (productorID) REFERENCES Productor(productorID))"
   ]
  },
  {
   "cell_type": "code",
   "execution_count": 25,
   "metadata": {},
   "outputs": [
    {
     "output_type": "execute_result",
     "data": {
      "text/plain": [
       "   productorID     CIIU  PrecioProducto     Stock\n",
       "0            1  A012601          2.5196  162719.0\n",
       "1            2  A012701          0.4925    6030.0\n",
       "2            3  A012701          0.4925    6030.0\n",
       "3            4  A012701          0.4925    6030.0\n",
       "4            5  A012701          0.4925    6030.0"
      ],
      "text/html": "<div>\n<style scoped>\n    .dataframe tbody tr th:only-of-type {\n        vertical-align: middle;\n    }\n\n    .dataframe tbody tr th {\n        vertical-align: top;\n    }\n\n    .dataframe thead th {\n        text-align: right;\n    }\n</style>\n<table border=\"1\" class=\"dataframe\">\n  <thead>\n    <tr style=\"text-align: right;\">\n      <th></th>\n      <th>productorID</th>\n      <th>CIIU</th>\n      <th>PrecioProducto</th>\n      <th>Stock</th>\n    </tr>\n  </thead>\n  <tbody>\n    <tr>\n      <th>0</th>\n      <td>1</td>\n      <td>A012601</td>\n      <td>2.5196</td>\n      <td>162719.0</td>\n    </tr>\n    <tr>\n      <th>1</th>\n      <td>2</td>\n      <td>A012701</td>\n      <td>0.4925</td>\n      <td>6030.0</td>\n    </tr>\n    <tr>\n      <th>2</th>\n      <td>3</td>\n      <td>A012701</td>\n      <td>0.4925</td>\n      <td>6030.0</td>\n    </tr>\n    <tr>\n      <th>3</th>\n      <td>4</td>\n      <td>A012701</td>\n      <td>0.4925</td>\n      <td>6030.0</td>\n    </tr>\n    <tr>\n      <th>4</th>\n      <td>5</td>\n      <td>A012701</td>\n      <td>0.4925</td>\n      <td>6030.0</td>\n    </tr>\n  </tbody>\n</table>\n</div>"
     },
     "metadata": {},
     "execution_count": 25
    }
   ],
   "source": [
    "df2 = pd.read_csv(\"/Users/elsa/Desktop/Bootcamp The Bridge/The_Bridge/Ds_Bootcamp_Elsa/Ejercicios/Desafío de tripulaciones/Proyecto/csv_para_base_datos/productor_producto_id.csv\")\n",
    "df2 = df2.rename(columns={'id_productor':'productorID','CIIU':'CIIU','precio_consumidor':'PrecioProducto','Kg_productor':'Stock'})\n",
    "df2.head()"
   ]
  },
  {
   "cell_type": "code",
   "execution_count": 26,
   "metadata": {},
   "outputs": [
    {
     "output_type": "execute_result",
     "data": {
      "text/plain": [
       "      productorID       CIIU  PrecioProducto     Stock\n",
       "0               1  \"A012601\"          2.5196  162719.0\n",
       "1               2  \"A012701\"          0.4925    6030.0\n",
       "2               3  \"A012701\"          0.4925    6030.0\n",
       "3               4  \"A012701\"          0.4925    6030.0\n",
       "4               5  \"A012701\"          0.4925    6030.0\n",
       "...           ...        ...             ...       ...\n",
       "3386         3387  \"A012702\"          3.4956   20451.0\n",
       "3387         3388  \"A012702\"          3.4956   20451.0\n",
       "3388         3389  \"A012702\"          3.4956   20451.0\n",
       "3389         3390  \"A011903\"          0.5166   54512.0\n",
       "3390         3391  \"A011112\"          0.4855   44191.0\n",
       "\n",
       "[3391 rows x 4 columns]"
      ],
      "text/html": "<div>\n<style scoped>\n    .dataframe tbody tr th:only-of-type {\n        vertical-align: middle;\n    }\n\n    .dataframe tbody tr th {\n        vertical-align: top;\n    }\n\n    .dataframe thead th {\n        text-align: right;\n    }\n</style>\n<table border=\"1\" class=\"dataframe\">\n  <thead>\n    <tr style=\"text-align: right;\">\n      <th></th>\n      <th>productorID</th>\n      <th>CIIU</th>\n      <th>PrecioProducto</th>\n      <th>Stock</th>\n    </tr>\n  </thead>\n  <tbody>\n    <tr>\n      <th>0</th>\n      <td>1</td>\n      <td>\"A012601\"</td>\n      <td>2.5196</td>\n      <td>162719.0</td>\n    </tr>\n    <tr>\n      <th>1</th>\n      <td>2</td>\n      <td>\"A012701\"</td>\n      <td>0.4925</td>\n      <td>6030.0</td>\n    </tr>\n    <tr>\n      <th>2</th>\n      <td>3</td>\n      <td>\"A012701\"</td>\n      <td>0.4925</td>\n      <td>6030.0</td>\n    </tr>\n    <tr>\n      <th>3</th>\n      <td>4</td>\n      <td>\"A012701\"</td>\n      <td>0.4925</td>\n      <td>6030.0</td>\n    </tr>\n    <tr>\n      <th>4</th>\n      <td>5</td>\n      <td>\"A012701\"</td>\n      <td>0.4925</td>\n      <td>6030.0</td>\n    </tr>\n    <tr>\n      <th>...</th>\n      <td>...</td>\n      <td>...</td>\n      <td>...</td>\n      <td>...</td>\n    </tr>\n    <tr>\n      <th>3386</th>\n      <td>3387</td>\n      <td>\"A012702\"</td>\n      <td>3.4956</td>\n      <td>20451.0</td>\n    </tr>\n    <tr>\n      <th>3387</th>\n      <td>3388</td>\n      <td>\"A012702\"</td>\n      <td>3.4956</td>\n      <td>20451.0</td>\n    </tr>\n    <tr>\n      <th>3388</th>\n      <td>3389</td>\n      <td>\"A012702\"</td>\n      <td>3.4956</td>\n      <td>20451.0</td>\n    </tr>\n    <tr>\n      <th>3389</th>\n      <td>3390</td>\n      <td>\"A011903\"</td>\n      <td>0.5166</td>\n      <td>54512.0</td>\n    </tr>\n    <tr>\n      <th>3390</th>\n      <td>3391</td>\n      <td>\"A011112\"</td>\n      <td>0.4855</td>\n      <td>44191.0</td>\n    </tr>\n  </tbody>\n</table>\n<p>3391 rows × 4 columns</p>\n</div>"
     },
     "metadata": {},
     "execution_count": 26
    }
   ],
   "source": [
    "#Producto\n",
    "productorID = []\n",
    "CIIU = []\n",
    "PrecioProducto = []\n",
    "Stock = []\n",
    "\n",
    "for elem in df2.productorID:\n",
    "    productorID.append(elem)\n",
    "for elem in df2.CIIU:\n",
    "    a = '\"'\n",
    "    CIIU.append(a+str(elem)+a)\n",
    "for elem in df2.PrecioProducto:\n",
    "    PrecioProducto.append(elem)\n",
    "for elem in df2.Stock:\n",
    "    Stock.append(elem)\n",
    "    \n",
    "\n",
    "\n",
    "\n",
    "    \n",
    "df2 = pd.DataFrame({\"productorID\": productorID,'CIIU': CIIU, 'PrecioProducto': PrecioProducto,'Stock': Stock})\n",
    "\n",
    "df2"
   ]
  },
  {
   "cell_type": "code",
   "execution_count": 28,
   "metadata": {},
   "outputs": [],
   "source": [
    "df2.to_csv('ProductorProductolina.sql')"
   ]
  },
  {
   "cell_type": "code",
   "execution_count": null,
   "metadata": {},
   "outputs": [],
   "source": []
  }
 ]
}