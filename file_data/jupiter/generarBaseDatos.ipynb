{
 "metadata": {
  "language_info": {
   "codemirror_mode": {
    "name": "ipython",
    "version": 3
   },
   "file_extension": ".py",
   "mimetype": "text/x-python",
   "name": "python",
   "nbconvert_exporter": "python",
   "pygments_lexer": "ipython3",
   "version": "3.8.5-final"
  },
  "orig_nbformat": 2,
  "kernelspec": {
   "name": "Python 3.8.5 64-bit",
   "display_name": "Python 3.8.5 64-bit",
   "metadata": {
    "interpreter": {
     "hash": "aee8b7b246df8f9039afb4144a1f6fd8d2ca17a180786b69acc140d282b71a49"
    }
   }
  }
 },
 "nbformat": 4,
 "nbformat_minor": 2,
 "cells": [
  {
   "cell_type": "code",
   "execution_count": 2,
   "metadata": {},
   "outputs": [],
   "source": [
    "import sqlite3\n",
    "import pandas as pd"
   ]
  },
  {
   "cell_type": "code",
   "execution_count": 3,
   "metadata": {},
   "outputs": [
    {
     "output_type": "stream",
     "name": "stdout",
     "text": [
      "Opened database successfully\n"
     ]
    },
    {
     "output_type": "execute_result",
     "data": {
      "text/plain": [
       "<sqlite3.Connection at 0x7fd0d606c6c0>"
      ]
     },
     "metadata": {},
     "execution_count": 3
    }
   ],
   "source": [
    "# conexion a base de datos. Si la base de datos no está la crea\n",
    "conn = sqlite3.connect(\"FARMSPACE.db\")\n",
    "print(\"Opened database successfully\")\n",
    "conn"
   ]
  },
  {
   "cell_type": "code",
   "execution_count": 4,
   "metadata": {},
   "outputs": [],
   "source": [
    "#Creating a cursor object using the cursor() method\n",
    "cursor = conn.cursor()"
   ]
  },
  {
   "source": [
    "# Commit your changes in the database\n",
    "conn.commit()\n",
    "#Closing the connection\n",
    "conn.close()"
   ],
   "cell_type": "code",
   "metadata": {},
   "execution_count": 82,
   "outputs": []
  },
  {
   "source": [
    "### INCLUIR PRODUCTORES"
   ],
   "cell_type": "markdown",
   "metadata": {}
  },
  {
   "source": [
    "#Creating table as per requirement\n",
    "productor = '''CREATE TABLE productor\n",
    "         (productorID     INT     AUTO_INCREMENT      PRIMARY KEY     NOT NULL,\n",
    "         razonSocial        VARCHAR(100)                                NULL,\n",
    "         nombreComercial    VARCHAR(100)                                NULL)\n",
    "         '''\n",
    "cursor.execute(productor)\n",
    "print(\"Table created successfully\")\n"
   ],
   "cell_type": "code",
   "metadata": {},
   "execution_count": null,
   "outputs": []
  },
  {
   "source": [
    "df = pd.read_csv(\"/Users/elsa/Desktop/Bootcamp The Bridge/The_Bridge/Ds_Bootcamp_Elsa/Ejercicios/Desafío de tripulaciones/Proyecto/csv_para_base_datos/productores_id.csv\")\n",
    "df"
   ],
   "cell_type": "code",
   "metadata": {},
   "execution_count": 5,
   "outputs": [
    {
     "output_type": "execute_result",
     "data": {
      "text/plain": [
       "      id_productor                       RAZON_SOCIAL  \\\n",
       "0                1     QUIROZ ALVEAR GERMAN FRANCISCO   \n",
       "1                2     DONOSO JARAMILLO JOSE FERNANDO   \n",
       "2                3     DONOSO JARAMILLO JOSE FERNANDO   \n",
       "3                4     DONOSO JARAMILLO JOSE FERNANDO   \n",
       "4                5     DONOSO JARAMILLO JOSE FERNANDO   \n",
       "...            ...                                ...   \n",
       "3386          3387  SARMIENTO GUALLPA MANUEL LEONARDO   \n",
       "3387          3388     PEREZ QUEZADA CARLOS FRANCISCO   \n",
       "3388          3389      LOPEZ VILLEGAS MILTON MARCELO   \n",
       "3389          3390         PILA PUJOTA SEGUNDO SANTOS   \n",
       "3390          3391                  ZILOAGRO CIA LTDA   \n",
       "\n",
       "              NOMBRE_COMERCIAL  \n",
       "0                         Null  \n",
       "1             FINCA EL PARAISO  \n",
       "2             FINCA EL PARAISO  \n",
       "3             FINCA EL PARAISO  \n",
       "4             FINCA EL PARAISO  \n",
       "...                        ...  \n",
       "3386  FINCA HERMANOS SARMIENTO  \n",
       "3387                      Null  \n",
       "3388                      Null  \n",
       "3389                      Null  \n",
       "3390                      Null  \n",
       "\n",
       "[3391 rows x 3 columns]"
      ],
      "text/html": "<div>\n<style scoped>\n    .dataframe tbody tr th:only-of-type {\n        vertical-align: middle;\n    }\n\n    .dataframe tbody tr th {\n        vertical-align: top;\n    }\n\n    .dataframe thead th {\n        text-align: right;\n    }\n</style>\n<table border=\"1\" class=\"dataframe\">\n  <thead>\n    <tr style=\"text-align: right;\">\n      <th></th>\n      <th>id_productor</th>\n      <th>RAZON_SOCIAL</th>\n      <th>NOMBRE_COMERCIAL</th>\n    </tr>\n  </thead>\n  <tbody>\n    <tr>\n      <th>0</th>\n      <td>1</td>\n      <td>QUIROZ ALVEAR GERMAN FRANCISCO</td>\n      <td>Null</td>\n    </tr>\n    <tr>\n      <th>1</th>\n      <td>2</td>\n      <td>DONOSO JARAMILLO JOSE FERNANDO</td>\n      <td>FINCA EL PARAISO</td>\n    </tr>\n    <tr>\n      <th>2</th>\n      <td>3</td>\n      <td>DONOSO JARAMILLO JOSE FERNANDO</td>\n      <td>FINCA EL PARAISO</td>\n    </tr>\n    <tr>\n      <th>3</th>\n      <td>4</td>\n      <td>DONOSO JARAMILLO JOSE FERNANDO</td>\n      <td>FINCA EL PARAISO</td>\n    </tr>\n    <tr>\n      <th>4</th>\n      <td>5</td>\n      <td>DONOSO JARAMILLO JOSE FERNANDO</td>\n      <td>FINCA EL PARAISO</td>\n    </tr>\n    <tr>\n      <th>...</th>\n      <td>...</td>\n      <td>...</td>\n      <td>...</td>\n    </tr>\n    <tr>\n      <th>3386</th>\n      <td>3387</td>\n      <td>SARMIENTO GUALLPA MANUEL LEONARDO</td>\n      <td>FINCA HERMANOS SARMIENTO</td>\n    </tr>\n    <tr>\n      <th>3387</th>\n      <td>3388</td>\n      <td>PEREZ QUEZADA CARLOS FRANCISCO</td>\n      <td>Null</td>\n    </tr>\n    <tr>\n      <th>3388</th>\n      <td>3389</td>\n      <td>LOPEZ VILLEGAS MILTON MARCELO</td>\n      <td>Null</td>\n    </tr>\n    <tr>\n      <th>3389</th>\n      <td>3390</td>\n      <td>PILA PUJOTA SEGUNDO SANTOS</td>\n      <td>Null</td>\n    </tr>\n    <tr>\n      <th>3390</th>\n      <td>3391</td>\n      <td>ZILOAGRO CIA LTDA</td>\n      <td>Null</td>\n    </tr>\n  </tbody>\n</table>\n<p>3391 rows × 3 columns</p>\n</div>"
     },
     "metadata": {},
     "execution_count": 5
    }
   ]
  },
  {
   "source": [
    "df.to_sql(productor, con = conn)\n"
   ],
   "cell_type": "code",
   "metadata": {},
   "execution_count": null,
   "outputs": []
  },
  {
   "cell_type": "code",
   "execution_count": 7,
   "metadata": {},
   "outputs": [],
   "source": [
    "# Commit your changes in the database\n",
    "conn.commit()"
   ]
  },
  {
   "source": [
    "### INCLUIR PRODUCTOS"
   ],
   "cell_type": "markdown",
   "metadata": {}
  },
  {
   "cell_type": "code",
   "execution_count": 37,
   "metadata": {},
   "outputs": [
    {
     "output_type": "stream",
     "name": "stdout",
     "text": [
      "Table created successfully\n"
     ]
    }
   ],
   "source": [
    "#Creating table as per requirement\n",
    "producto = '''CREATE TABLE producto\n",
    "         (CIIU     VARCHAR(15)      PRIMARY KEY     NOT NULL,\n",
    "         producto  VARCHAR(100)             NOT NULL,\n",
    "         IPP       INT                          NULL, \n",
    "         IPC       INT                          NULL)\n",
    "         '''\n",
    "cursor.execute(producto)\n",
    "print(\"Table created successfully\")"
   ]
  },
  {
   "cell_type": "code",
   "execution_count": 35,
   "metadata": {},
   "outputs": [
    {
     "output_type": "execute_result",
     "data": {
      "text/plain": [
       "      CIIU                                           producto     IPP     IPC\n",
       "0  A011601                       CULTIVO DE SANDÍAS, MELONES.  1.1220  1.6830\n",
       "1  A012201                     CULTIVO DE BANANOS Y PLÁTANOS.  0.2990  0.4485\n",
       "2  A012801  CULTIVO DE ESPECIAS DEL GÉNERO CAPSICUM: AJÍES...  0.3917  0.5876\n",
       "3  A011122                                 CULTIVO DE ARVEJA.  0.4743  0.7114\n",
       "4  A021002  CULTIVO DE MONTE BAJO (ARBUSTOS), MADERA PARA ...  1.2901  1.9352"
      ],
      "text/html": "<div>\n<style scoped>\n    .dataframe tbody tr th:only-of-type {\n        vertical-align: middle;\n    }\n\n    .dataframe tbody tr th {\n        vertical-align: top;\n    }\n\n    .dataframe thead th {\n        text-align: right;\n    }\n</style>\n<table border=\"1\" class=\"dataframe\">\n  <thead>\n    <tr style=\"text-align: right;\">\n      <th></th>\n      <th>CIIU</th>\n      <th>producto</th>\n      <th>IPP</th>\n      <th>IPC</th>\n    </tr>\n  </thead>\n  <tbody>\n    <tr>\n      <th>0</th>\n      <td>A011601</td>\n      <td>CULTIVO DE SANDÍAS, MELONES.</td>\n      <td>1.1220</td>\n      <td>1.6830</td>\n    </tr>\n    <tr>\n      <th>1</th>\n      <td>A012201</td>\n      <td>CULTIVO DE BANANOS Y PLÁTANOS.</td>\n      <td>0.2990</td>\n      <td>0.4485</td>\n    </tr>\n    <tr>\n      <th>2</th>\n      <td>A012801</td>\n      <td>CULTIVO DE ESPECIAS DEL GÉNERO CAPSICUM: AJÍES...</td>\n      <td>0.3917</td>\n      <td>0.5876</td>\n    </tr>\n    <tr>\n      <th>3</th>\n      <td>A011122</td>\n      <td>CULTIVO DE ARVEJA.</td>\n      <td>0.4743</td>\n      <td>0.7114</td>\n    </tr>\n    <tr>\n      <th>4</th>\n      <td>A021002</td>\n      <td>CULTIVO DE MONTE BAJO (ARBUSTOS), MADERA PARA ...</td>\n      <td>1.2901</td>\n      <td>1.9352</td>\n    </tr>\n  </tbody>\n</table>\n</div>"
     },
     "metadata": {},
     "execution_count": 35
    }
   ],
   "source": [
    "df1 = pd.read_csv(\"/Users/elsa/Desktop/Bootcamp The Bridge/The_Bridge/Ds_Bootcamp_Elsa/Ejercicios/Desafío de tripulaciones/Proyecto/csv_para_base_datos/productos_id.csv\")\n",
    "df1.head()"
   ]
  },
  {
   "source": [
    "df1.to_sql(\"producto\", con = conn)"
   ],
   "cell_type": "code",
   "metadata": {},
   "execution_count": null,
   "outputs": []
  },
  {
   "cell_type": "code",
   "execution_count": 11,
   "metadata": {},
   "outputs": [],
   "source": [
    "# Commit your changes in the database\n",
    "conn.commit()"
   ]
  },
  {
   "source": [
    "### INCLUIR PRODUCTORES_PRODUCTOS"
   ],
   "cell_type": "markdown",
   "metadata": {}
  },
  {
   "source": [
    "#Creating table as per requirement\n",
    "productorProducto = '''CREATE TABLE productorProducto\n",
    "        (productorID       INT    AUTO_INCREMENT  NOT NULL,\n",
    "        CIIU               VARCHAR(15)              NOT NULL,\n",
    "        precioConsumidor  INT                          NULL, \n",
    "        KgProductor       INT                          NULL,\n",
    "        PRIMARY KEY (productorID),\n",
    "        FOREIGN KEY (CIIU) REFERENCES productos(CIIU))\n",
    "        '''\n",
    "cursor.execute(productorProducto)\n",
    "print(\"Table created successfully\")"
   ],
   "cell_type": "code",
   "metadata": {},
   "execution_count": 13,
   "outputs": [
    {
     "output_type": "stream",
     "name": "stdout",
     "text": [
      "Table created successfully\n"
     ]
    }
   ]
  },
  {
   "source": [
    "CREATE TABLE productores-producto (\n",
    "    productorID       INT    AUTO_INCREMENT    NOT NULL,\n",
    "    CIIU               VARCHAR(15)              NOT NULL,\n",
    "    precio_consumidor  INT                          NULL, \n",
    "    Kg_productor       INT                          NULL,\n",
    "    PRIMARY KEY (id_productor),\n",
    "    FOREIGN KEY (CIIU) REFERENCES productos(CIIU)\n",
    ");"
   ],
   "cell_type": "code",
   "metadata": {},
   "execution_count": null,
   "outputs": []
  },
  {
   "cell_type": "code",
   "execution_count": 14,
   "metadata": {},
   "outputs": [
    {
     "output_type": "execute_result",
     "data": {
      "text/plain": [
       "   id_productor     CIIU  precio_consumidor  Kg_productor\n",
       "0             1  A012601             2.5196      162719.0\n",
       "1             2  A012701             0.4925        6030.0\n",
       "2             3  A012701             0.4925        6030.0\n",
       "3             4  A012701             0.4925        6030.0\n",
       "4             5  A012701             0.4925        6030.0"
      ],
      "text/html": "<div>\n<style scoped>\n    .dataframe tbody tr th:only-of-type {\n        vertical-align: middle;\n    }\n\n    .dataframe tbody tr th {\n        vertical-align: top;\n    }\n\n    .dataframe thead th {\n        text-align: right;\n    }\n</style>\n<table border=\"1\" class=\"dataframe\">\n  <thead>\n    <tr style=\"text-align: right;\">\n      <th></th>\n      <th>id_productor</th>\n      <th>CIIU</th>\n      <th>precio_consumidor</th>\n      <th>Kg_productor</th>\n    </tr>\n  </thead>\n  <tbody>\n    <tr>\n      <th>0</th>\n      <td>1</td>\n      <td>A012601</td>\n      <td>2.5196</td>\n      <td>162719.0</td>\n    </tr>\n    <tr>\n      <th>1</th>\n      <td>2</td>\n      <td>A012701</td>\n      <td>0.4925</td>\n      <td>6030.0</td>\n    </tr>\n    <tr>\n      <th>2</th>\n      <td>3</td>\n      <td>A012701</td>\n      <td>0.4925</td>\n      <td>6030.0</td>\n    </tr>\n    <tr>\n      <th>3</th>\n      <td>4</td>\n      <td>A012701</td>\n      <td>0.4925</td>\n      <td>6030.0</td>\n    </tr>\n    <tr>\n      <th>4</th>\n      <td>5</td>\n      <td>A012701</td>\n      <td>0.4925</td>\n      <td>6030.0</td>\n    </tr>\n  </tbody>\n</table>\n</div>"
     },
     "metadata": {},
     "execution_count": 14
    }
   ],
   "source": [
    "df2 = pd.read_csv(\"/Users/elsa/Desktop/Bootcamp The Bridge/The_Bridge/Ds_Bootcamp_Elsa/Ejercicios/Desafío de tripulaciones/Proyecto/csv_para_base_datos/productor_producto_id.csv\")\n",
    "df2.head()"
   ]
  },
  {
   "source": [
    "df2.to_sql(productorProducto, con = conn)"
   ],
   "cell_type": "code",
   "metadata": {},
   "execution_count": null,
   "outputs": []
  },
  {
   "cell_type": "code",
   "execution_count": 16,
   "metadata": {},
   "outputs": [],
   "source": [
    "# Commit your changes in the database\n",
    "conn.commit()"
   ]
  },
  {
   "source": [
    "### INCLUIR DIRECCIONES"
   ],
   "cell_type": "markdown",
   "metadata": {}
  },
  {
   "cell_type": "code",
   "execution_count": null,
   "metadata": {},
   "outputs": [],
   "source": [
    "CREATE TABLE direccion (\n",
    "    id INT NOT NULL PRIMARY KEY AUTO_INCREMENT,\n",
    "    idExterno INT NULL,\n",
    "    Calle VARCHAR(100) NULL,\n",
    "    Numero VARCHAR(100) NULL,\n",
    "    Interseccion VARCHAR(100) NULL,\n",
    "    DescripcionProvincia VARCHAR(100) NULL,\n",
    "    DescripcionCanton VARCHAR(100) NULL,   \n",
    ");\n",
    "\n",
    "direccion.nombreDireccion"
   ]
  },
  {
   "source": [
    "### No agregar"
   ],
   "cell_type": "markdown",
   "metadata": {}
  },
  {
   "source": [
    "#Creating table as per requirement\n",
    "direccion = '''CREATE TABLE direccion\n",
    "         (productorID     INT     AUTO_INCREMENT      PRIMARY KEY     NOT NULL,\n",
    "         CALLE                  VARCHAR(100)                                NULL,\n",
    "         NUMERO                 VARCHAR(100)                                NULL,\n",
    "         INTERSECCION           VARCHAR(100)                                NULL,\n",
    "         DESCRIPCION_PROVINCIA  VARCHAR(100)                                NULL,\n",
    "         DESCRIPCION_CANTON     VARCHAR(100)                                NULL)\n",
    "         '''\n",
    "cursor.execute(direccion)\n",
    "print(\"Table created successfully\")"
   ],
   "cell_type": "code",
   "metadata": {},
   "execution_count": 38,
   "outputs": [
    {
     "output_type": "stream",
     "name": "stdout",
     "text": [
      "Table created successfully\n"
     ]
    }
   ]
  },
  {
   "cell_type": "code",
   "execution_count": 39,
   "metadata": {},
   "outputs": [
    {
     "output_type": "execute_result",
     "data": {
      "text/plain": [
       "   id_productor               CALLE   NUMERO      INTERSECCION  \\\n",
       "0             1  VIA A PUERTO QUITO      S/N  MARGEN IZQUIERDO   \n",
       "1             2       MEDARDO SILVA   S4-252    AURORA ESTRADA   \n",
       "2             3     VIA SANTA ELENA     LT 1              Null   \n",
       "3             4       VIA SAN DIMAS      S/N  MARGEN IZQUIERDO   \n",
       "4             5       MEDARDO SILVA  S-4 252    AURORA ESTRADA   \n",
       "\n",
       "  DESCRIPCION_PROVINCIA       DESCRIPCION_CANTON  \n",
       "0             PICHINCHA             PUERTO QUITO  \n",
       "1             PICHINCHA                    QUITO  \n",
       "2             PICHINCHA                    QUITO  \n",
       "3             PICHINCHA  PEDRO VICENTE MALDONADO  \n",
       "4             PICHINCHA                    QUITO  "
      ],
      "text/html": "<div>\n<style scoped>\n    .dataframe tbody tr th:only-of-type {\n        vertical-align: middle;\n    }\n\n    .dataframe tbody tr th {\n        vertical-align: top;\n    }\n\n    .dataframe thead th {\n        text-align: right;\n    }\n</style>\n<table border=\"1\" class=\"dataframe\">\n  <thead>\n    <tr style=\"text-align: right;\">\n      <th></th>\n      <th>id_productor</th>\n      <th>CALLE</th>\n      <th>NUMERO</th>\n      <th>INTERSECCION</th>\n      <th>DESCRIPCION_PROVINCIA</th>\n      <th>DESCRIPCION_CANTON</th>\n    </tr>\n  </thead>\n  <tbody>\n    <tr>\n      <th>0</th>\n      <td>1</td>\n      <td>VIA A PUERTO QUITO</td>\n      <td>S/N</td>\n      <td>MARGEN IZQUIERDO</td>\n      <td>PICHINCHA</td>\n      <td>PUERTO QUITO</td>\n    </tr>\n    <tr>\n      <th>1</th>\n      <td>2</td>\n      <td>MEDARDO SILVA</td>\n      <td>S4-252</td>\n      <td>AURORA ESTRADA</td>\n      <td>PICHINCHA</td>\n      <td>QUITO</td>\n    </tr>\n    <tr>\n      <th>2</th>\n      <td>3</td>\n      <td>VIA SANTA ELENA</td>\n      <td>LT 1</td>\n      <td>Null</td>\n      <td>PICHINCHA</td>\n      <td>QUITO</td>\n    </tr>\n    <tr>\n      <th>3</th>\n      <td>4</td>\n      <td>VIA SAN DIMAS</td>\n      <td>S/N</td>\n      <td>MARGEN IZQUIERDO</td>\n      <td>PICHINCHA</td>\n      <td>PEDRO VICENTE MALDONADO</td>\n    </tr>\n    <tr>\n      <th>4</th>\n      <td>5</td>\n      <td>MEDARDO SILVA</td>\n      <td>S-4 252</td>\n      <td>AURORA ESTRADA</td>\n      <td>PICHINCHA</td>\n      <td>QUITO</td>\n    </tr>\n  </tbody>\n</table>\n</div>"
     },
     "metadata": {},
     "execution_count": 39
    }
   ],
   "source": [
    "df3 = pd.read_csv(\"/Users/elsa/Desktop/Bootcamp The Bridge/The_Bridge/Ds_Bootcamp_Elsa/Ejercicios/Desafío de tripulaciones/Proyecto/csv_para_base_datos/direccion_sinCoordenadas_id.csv\")\n",
    "df3.head()"
   ]
  },
  {
   "source": [
    "df3.to_sql(\"direccion\", con = conn)"
   ],
   "cell_type": "code",
   "metadata": {},
   "execution_count": 41,
   "outputs": []
  },
  {
   "cell_type": "code",
   "execution_count": 42,
   "metadata": {},
   "outputs": [],
   "source": [
    "# Commit your changes in the database\n",
    "conn.commit()"
   ]
  },
  {
   "source": [
    "### Agregar"
   ],
   "cell_type": "markdown",
   "metadata": {}
  },
  {
   "source": [
    "#### direcciones con coordenadas canton"
   ],
   "cell_type": "markdown",
   "metadata": {}
  },
  {
   "cell_type": "code",
   "execution_count": 10,
   "metadata": {},
   "outputs": [
    {
     "output_type": "stream",
     "name": "stdout",
     "text": [
      "Table created successfully\n"
     ]
    }
   ],
   "source": [
    "#Creating table as per requirement\n",
    "direcciones = '''CREATE TABLE direcciones\n",
    "         (productorID     INT     AUTO_INCREMENT      PRIMARY KEY     NOT NULL,\n",
    "         calle                  VARCHAR(100)                                NULL,\n",
    "         numero                 VARCHAR(100)                                NULL,\n",
    "         interseccion           VARCHAR(100)                                NULL,\n",
    "         descripcionProvincia   VARCHAR(100)                                NULL,\n",
    "         descripcionCanton      VARCHAR(100)                                NULL,\n",
    "         latitud                INT                                         NULL,\n",
    "         longitud               INT                                         NULL)\n",
    "         '''\n",
    "cursor.execute(direcciones)\n",
    "print(\"Table created successfully\")"
   ]
  },
  {
   "cell_type": "code",
   "execution_count": null,
   "metadata": {},
   "outputs": [],
   "source": [
    ".loc[:,[\"Latitud\",\"Longitud\"]]"
   ]
  },
  {
   "cell_type": "code",
   "execution_count": 11,
   "metadata": {},
   "outputs": [
    {
     "output_type": "execute_result",
     "data": {
      "text/plain": [
       "      id_productor               CALLE   NUMERO      INTERSECCION  \\\n",
       "0                1  VIA A PUERTO QUITO      S/N  MARGEN IZQUIERDO   \n",
       "1                2       MEDARDO SILVA   S4-252    AURORA ESTRADA   \n",
       "2                3     VIA SANTA ELENA     LT 1              Null   \n",
       "3                4       VIA SAN DIMAS      S/N  MARGEN IZQUIERDO   \n",
       "4                5       MEDARDO SILVA  S-4 252    AURORA ESTRADA   \n",
       "...            ...                 ...      ...               ...   \n",
       "3386          3387             PACHECO  OE6-144       JUAN GARZON   \n",
       "3387          3388   VIA A LA RUTA DOS      S/N  MARGEN IZQUIERDO   \n",
       "3388          3389        VIA LA SEXTA      S/N  MARGEN IZQUIERDO   \n",
       "3389          3390           PRINCIPAL     Null              Null   \n",
       "3390          3391     DIEGO VELASQUEZ  OE4-122    JHON F KENNEDY   \n",
       "\n",
       "     DESCRIPCION_PROVINCIA       DESCRIPCION_CANTON   Latitud   Longitud  \n",
       "0                PICHINCHA             PUERTO QUITO  0.160887 -79.226730  \n",
       "1                PICHINCHA                    QUITO -0.220164 -78.512327  \n",
       "2                PICHINCHA                    QUITO -0.220164 -78.512327  \n",
       "3                PICHINCHA  PEDRO VICENTE MALDONADO  0.086496 -79.052577  \n",
       "4                PICHINCHA                    QUITO -0.220164 -78.512327  \n",
       "...                    ...                      ...       ...        ...  \n",
       "3386             PICHINCHA                    QUITO -0.220164 -78.512327  \n",
       "3387             PICHINCHA             PUERTO QUITO  0.160887 -79.226730  \n",
       "3388             PICHINCHA             PUERTO QUITO  0.160887 -79.226730  \n",
       "3389             PICHINCHA            PEDRO MONCAYO -0.214998 -78.496884  \n",
       "3390             PICHINCHA                    QUITO -0.220164 -78.512327  \n",
       "\n",
       "[3391 rows x 8 columns]"
      ],
      "text/html": "<div>\n<style scoped>\n    .dataframe tbody tr th:only-of-type {\n        vertical-align: middle;\n    }\n\n    .dataframe tbody tr th {\n        vertical-align: top;\n    }\n\n    .dataframe thead th {\n        text-align: right;\n    }\n</style>\n<table border=\"1\" class=\"dataframe\">\n  <thead>\n    <tr style=\"text-align: right;\">\n      <th></th>\n      <th>id_productor</th>\n      <th>CALLE</th>\n      <th>NUMERO</th>\n      <th>INTERSECCION</th>\n      <th>DESCRIPCION_PROVINCIA</th>\n      <th>DESCRIPCION_CANTON</th>\n      <th>Latitud</th>\n      <th>Longitud</th>\n    </tr>\n  </thead>\n  <tbody>\n    <tr>\n      <th>0</th>\n      <td>1</td>\n      <td>VIA A PUERTO QUITO</td>\n      <td>S/N</td>\n      <td>MARGEN IZQUIERDO</td>\n      <td>PICHINCHA</td>\n      <td>PUERTO QUITO</td>\n      <td>0.160887</td>\n      <td>-79.226730</td>\n    </tr>\n    <tr>\n      <th>1</th>\n      <td>2</td>\n      <td>MEDARDO SILVA</td>\n      <td>S4-252</td>\n      <td>AURORA ESTRADA</td>\n      <td>PICHINCHA</td>\n      <td>QUITO</td>\n      <td>-0.220164</td>\n      <td>-78.512327</td>\n    </tr>\n    <tr>\n      <th>2</th>\n      <td>3</td>\n      <td>VIA SANTA ELENA</td>\n      <td>LT 1</td>\n      <td>Null</td>\n      <td>PICHINCHA</td>\n      <td>QUITO</td>\n      <td>-0.220164</td>\n      <td>-78.512327</td>\n    </tr>\n    <tr>\n      <th>3</th>\n      <td>4</td>\n      <td>VIA SAN DIMAS</td>\n      <td>S/N</td>\n      <td>MARGEN IZQUIERDO</td>\n      <td>PICHINCHA</td>\n      <td>PEDRO VICENTE MALDONADO</td>\n      <td>0.086496</td>\n      <td>-79.052577</td>\n    </tr>\n    <tr>\n      <th>4</th>\n      <td>5</td>\n      <td>MEDARDO SILVA</td>\n      <td>S-4 252</td>\n      <td>AURORA ESTRADA</td>\n      <td>PICHINCHA</td>\n      <td>QUITO</td>\n      <td>-0.220164</td>\n      <td>-78.512327</td>\n    </tr>\n    <tr>\n      <th>...</th>\n      <td>...</td>\n      <td>...</td>\n      <td>...</td>\n      <td>...</td>\n      <td>...</td>\n      <td>...</td>\n      <td>...</td>\n      <td>...</td>\n    </tr>\n    <tr>\n      <th>3386</th>\n      <td>3387</td>\n      <td>PACHECO</td>\n      <td>OE6-144</td>\n      <td>JUAN GARZON</td>\n      <td>PICHINCHA</td>\n      <td>QUITO</td>\n      <td>-0.220164</td>\n      <td>-78.512327</td>\n    </tr>\n    <tr>\n      <th>3387</th>\n      <td>3388</td>\n      <td>VIA A LA RUTA DOS</td>\n      <td>S/N</td>\n      <td>MARGEN IZQUIERDO</td>\n      <td>PICHINCHA</td>\n      <td>PUERTO QUITO</td>\n      <td>0.160887</td>\n      <td>-79.226730</td>\n    </tr>\n    <tr>\n      <th>3388</th>\n      <td>3389</td>\n      <td>VIA LA SEXTA</td>\n      <td>S/N</td>\n      <td>MARGEN IZQUIERDO</td>\n      <td>PICHINCHA</td>\n      <td>PUERTO QUITO</td>\n      <td>0.160887</td>\n      <td>-79.226730</td>\n    </tr>\n    <tr>\n      <th>3389</th>\n      <td>3390</td>\n      <td>PRINCIPAL</td>\n      <td>Null</td>\n      <td>Null</td>\n      <td>PICHINCHA</td>\n      <td>PEDRO MONCAYO</td>\n      <td>-0.214998</td>\n      <td>-78.496884</td>\n    </tr>\n    <tr>\n      <th>3390</th>\n      <td>3391</td>\n      <td>DIEGO VELASQUEZ</td>\n      <td>OE4-122</td>\n      <td>JHON F KENNEDY</td>\n      <td>PICHINCHA</td>\n      <td>QUITO</td>\n      <td>-0.220164</td>\n      <td>-78.512327</td>\n    </tr>\n  </tbody>\n</table>\n<p>3391 rows × 8 columns</p>\n</div>"
     },
     "metadata": {},
     "execution_count": 11
    }
   ],
   "source": [
    "dfCoor = pd.read_csv(\"/Users/elsa/Desktop/Bootcamp The Bridge/The_Bridge/Ds_Bootcamp_Elsa/Ejercicios/Desafío de tripulaciones/Proyecto/csv_para_base_datos/direccion_id.csv\")\n",
    "dfCoor"
   ]
  },
  {
   "cell_type": "code",
   "execution_count": 12,
   "metadata": {},
   "outputs": [],
   "source": [
    "dfCoor.to_sql(direcciones, con = conn)"
   ]
  },
  {
   "cell_type": "code",
   "execution_count": 13,
   "metadata": {},
   "outputs": [],
   "source": [
    "# Commit your changes in the database\n",
    "conn.commit()"
   ]
  },
  {
   "source": [
    "### INCLUIR CONSUMIDORES"
   ],
   "cell_type": "markdown",
   "metadata": {}
  },
  {
   "cell_type": "code",
   "execution_count": null,
   "metadata": {},
   "outputs": [],
   "source": [
    "CREATE TABLE consumidores (\n",
    "    id INT NOT NULL PRIMARY KEY AUTO_INCREMENT,\n",
    "    idExterno INT NULL,\n",
    "    NombreCliente VARCHAR(100) NULL,\n",
    "    UsernameCliente VARCHAR(20) NULL,\n",
    "    e.mail(30) VARCHAR(20) NULL,\n",
    "    contraseña VARCHAR(20) NULL\n",
    ");\n",
    "\n",
    "consumidores.nombreConsumidores"
   ]
  },
  {
   "source": [
    "#Creating table as per requirement\n",
    "consumidor = '''CREATE TABLE consumidor\n",
    "        (clienteID     INT     AUTO_INCREMENT   PRIMARY KEY  NOT NULL,\n",
    "         NombreCliente          VARCHAR(100)                      NULL,\n",
    "         UsernameCliente        VARCHAR(100)                      NULL,\n",
    "         eMail                 VARCHAR(100)                       NULL,\n",
    "         contraseña             VARCHAR(100)                       NULL)\n",
    "         '''\n",
    "cursor.execute(consumidor)\n",
    "print(\"Table created successfully\")"
   ],
   "cell_type": "code",
   "metadata": {},
   "execution_count": 21,
   "outputs": [
    {
     "output_type": "stream",
     "name": "stdout",
     "text": [
      "Table created successfully\n"
     ]
    }
   ]
  },
  {
   "cell_type": "code",
   "execution_count": 22,
   "metadata": {},
   "outputs": [
    {
     "output_type": "execute_result",
     "data": {
      "text/plain": [
       "   idExterno NombreCliente        UsernameCliente  \\\n",
       "0          1  MARIA CARMEN            sofilascano   \n",
       "1          2         MARIA    Att.Cliente.Jazztel   \n",
       "2          3        CARMEN               bisakson   \n",
       "3          4        JOSEFA  emision.internacional   \n",
       "4          5        ISABEL         j.pereyraramos   \n",
       "\n",
       "                             e-mail             contraseña  \n",
       "0           sofilascano@hotmail.com            sofilascano  \n",
       "1   Att.Cliente.Jazztel@jazztel.com    Att.Cliente.Jazztel  \n",
       "2              bisakson@hotmail.com               bisakson  \n",
       "3  emision.internacional@tam.com.br  emision.internacional  \n",
       "4       j.pereyraramos@yahoo.com.ar         j.pereyraramos  "
      ],
      "text/html": "<div>\n<style scoped>\n    .dataframe tbody tr th:only-of-type {\n        vertical-align: middle;\n    }\n\n    .dataframe tbody tr th {\n        vertical-align: top;\n    }\n\n    .dataframe thead th {\n        text-align: right;\n    }\n</style>\n<table border=\"1\" class=\"dataframe\">\n  <thead>\n    <tr style=\"text-align: right;\">\n      <th></th>\n      <th>idExterno</th>\n      <th>NombreCliente</th>\n      <th>UsernameCliente</th>\n      <th>e-mail</th>\n      <th>contraseña</th>\n    </tr>\n  </thead>\n  <tbody>\n    <tr>\n      <th>0</th>\n      <td>1</td>\n      <td>MARIA CARMEN</td>\n      <td>sofilascano</td>\n      <td>sofilascano@hotmail.com</td>\n      <td>sofilascano</td>\n    </tr>\n    <tr>\n      <th>1</th>\n      <td>2</td>\n      <td>MARIA</td>\n      <td>Att.Cliente.Jazztel</td>\n      <td>Att.Cliente.Jazztel@jazztel.com</td>\n      <td>Att.Cliente.Jazztel</td>\n    </tr>\n    <tr>\n      <th>2</th>\n      <td>3</td>\n      <td>CARMEN</td>\n      <td>bisakson</td>\n      <td>bisakson@hotmail.com</td>\n      <td>bisakson</td>\n    </tr>\n    <tr>\n      <th>3</th>\n      <td>4</td>\n      <td>JOSEFA</td>\n      <td>emision.internacional</td>\n      <td>emision.internacional@tam.com.br</td>\n      <td>emision.internacional</td>\n    </tr>\n    <tr>\n      <th>4</th>\n      <td>5</td>\n      <td>ISABEL</td>\n      <td>j.pereyraramos</td>\n      <td>j.pereyraramos@yahoo.com.ar</td>\n      <td>j.pereyraramos</td>\n    </tr>\n  </tbody>\n</table>\n</div>"
     },
     "metadata": {},
     "execution_count": 22
    }
   ],
   "source": [
    "df4 = pd.read_csv(\"/Users/elsa/Desktop/Bootcamp The Bridge/The_Bridge/Ds_Bootcamp_Elsa/Ejercicios/Desafío de tripulaciones/Proyecto/csv_para_base_datos/consumidores_id.csv\",sep=\",\")\n",
    "df4.head()"
   ]
  },
  {
   "source": [
    "df4.to_sql(consumidor, con = conn)"
   ],
   "cell_type": "code",
   "metadata": {},
   "execution_count": null,
   "outputs": []
  },
  {
   "cell_type": "code",
   "execution_count": 24,
   "metadata": {},
   "outputs": [],
   "source": [
    "# Commit your changes in the database\n",
    "conn.commit()"
   ]
  },
  {
   "source": [
    "# @@@@@@@@@@@@@@@@@@@@@@@@@@@@@@@@@"
   ],
   "cell_type": "markdown",
   "metadata": {}
  },
  {
   "cell_type": "code",
   "execution_count": null,
   "metadata": {},
   "outputs": [],
   "source": [
    "# COMPROBAR QUE LA BASE FUNCIONA"
   ]
  },
  {
   "cell_type": "code",
   "execution_count": null,
   "metadata": {},
   "outputs": [],
   "source": []
  },
  {
   "cell_type": "code",
   "execution_count": 124,
   "metadata": {},
   "outputs": [
    {
     "output_type": "execute_result",
     "data": {
      "text/plain": [
       "Empty DataFrame\n",
       "Columns: [clienteID, NombreCliente, UsernameCliente, eMail, contraseña]\n",
       "Index: []"
      ],
      "text/html": "<div>\n<style scoped>\n    .dataframe tbody tr th:only-of-type {\n        vertical-align: middle;\n    }\n\n    .dataframe tbody tr th {\n        vertical-align: top;\n    }\n\n    .dataframe thead th {\n        text-align: right;\n    }\n</style>\n<table border=\"1\" class=\"dataframe\">\n  <thead>\n    <tr style=\"text-align: right;\">\n      <th></th>\n      <th>clienteID</th>\n      <th>NombreCliente</th>\n      <th>UsernameCliente</th>\n      <th>eMail</th>\n      <th>contraseña</th>\n    </tr>\n  </thead>\n  <tbody>\n  </tbody>\n</table>\n</div>"
     },
     "metadata": {},
     "execution_count": 124
    }
   ],
   "source": [
    "# query \"\"\" es un string multinea\n",
    "query = \"\"\"\n",
    "SELECT *\n",
    "FROM consumidor\n",
    "\"\"\"\n",
    "pd.read_sql_query(query, conn)"
   ]
  },
  {
   "cell_type": "code",
   "execution_count": 69,
   "metadata": {},
   "outputs": [
    {
     "output_type": "execute_result",
     "data": {
      "text/plain": [
       "      index  productorID                        razonSocial  \\\n",
       "0         0            1     QUIROZ ALVEAR GERMAN FRANCISCO   \n",
       "1         0            1     QUIROZ ALVEAR GERMAN FRANCISCO   \n",
       "2         0            1     QUIROZ ALVEAR GERMAN FRANCISCO   \n",
       "3         0            1     QUIROZ ALVEAR GERMAN FRANCISCO   \n",
       "4         0            1     QUIROZ ALVEAR GERMAN FRANCISCO   \n",
       "...     ...          ...                                ...   \n",
       "8732   3386         3387  SARMIENTO GUALLPA MANUEL LEONARDO   \n",
       "8733   3387         3388     PEREZ QUEZADA CARLOS FRANCISCO   \n",
       "8734   3388         3389      LOPEZ VILLEGAS MILTON MARCELO   \n",
       "8735   3389         3390         PILA PUJOTA SEGUNDO SANTOS   \n",
       "8736   3390         3391                  ZILOAGRO CIA LTDA   \n",
       "\n",
       "               nombreComercial  index  productorID     CIIU  precioConsumidor  \\\n",
       "0                         Null      0            1  A012601            2.5196   \n",
       "1                         Null     90            1  A012601            2.5196   \n",
       "2                         Null    100            1  A012702            3.4956   \n",
       "3                         Null    200            1  A012201            0.5382   \n",
       "4                         Null    300            1  A012601            2.5196   \n",
       "...                        ...    ...          ...      ...               ...   \n",
       "8732  FINCA HERMANOS SARMIENTO   3386         3387  A012702            3.4956   \n",
       "8733                      Null   3387         3388  A012702            3.4956   \n",
       "8734                      Null   3388         3389  A012702            3.4956   \n",
       "8735                      Null   3389         3390  A011903            0.5166   \n",
       "8736                      Null   3390         3391  A011112            0.4855   \n",
       "\n",
       "      KgProductor  \n",
       "0        162719.0  \n",
       "1        162719.0  \n",
       "2         20451.0  \n",
       "3       2930466.0  \n",
       "4        162719.0  \n",
       "...           ...  \n",
       "8732      20451.0  \n",
       "8733      20451.0  \n",
       "8734      20451.0  \n",
       "8735      54512.0  \n",
       "8736      44191.0  \n",
       "\n",
       "[8737 rows x 9 columns]"
      ],
      "text/html": "<div>\n<style scoped>\n    .dataframe tbody tr th:only-of-type {\n        vertical-align: middle;\n    }\n\n    .dataframe tbody tr th {\n        vertical-align: top;\n    }\n\n    .dataframe thead th {\n        text-align: right;\n    }\n</style>\n<table border=\"1\" class=\"dataframe\">\n  <thead>\n    <tr style=\"text-align: right;\">\n      <th></th>\n      <th>index</th>\n      <th>productorID</th>\n      <th>razonSocial</th>\n      <th>nombreComercial</th>\n      <th>index</th>\n      <th>productorID</th>\n      <th>CIIU</th>\n      <th>precioConsumidor</th>\n      <th>KgProductor</th>\n    </tr>\n  </thead>\n  <tbody>\n    <tr>\n      <th>0</th>\n      <td>0</td>\n      <td>1</td>\n      <td>QUIROZ ALVEAR GERMAN FRANCISCO</td>\n      <td>Null</td>\n      <td>0</td>\n      <td>1</td>\n      <td>A012601</td>\n      <td>2.5196</td>\n      <td>162719.0</td>\n    </tr>\n    <tr>\n      <th>1</th>\n      <td>0</td>\n      <td>1</td>\n      <td>QUIROZ ALVEAR GERMAN FRANCISCO</td>\n      <td>Null</td>\n      <td>90</td>\n      <td>1</td>\n      <td>A012601</td>\n      <td>2.5196</td>\n      <td>162719.0</td>\n    </tr>\n    <tr>\n      <th>2</th>\n      <td>0</td>\n      <td>1</td>\n      <td>QUIROZ ALVEAR GERMAN FRANCISCO</td>\n      <td>Null</td>\n      <td>100</td>\n      <td>1</td>\n      <td>A012702</td>\n      <td>3.4956</td>\n      <td>20451.0</td>\n    </tr>\n    <tr>\n      <th>3</th>\n      <td>0</td>\n      <td>1</td>\n      <td>QUIROZ ALVEAR GERMAN FRANCISCO</td>\n      <td>Null</td>\n      <td>200</td>\n      <td>1</td>\n      <td>A012201</td>\n      <td>0.5382</td>\n      <td>2930466.0</td>\n    </tr>\n    <tr>\n      <th>4</th>\n      <td>0</td>\n      <td>1</td>\n      <td>QUIROZ ALVEAR GERMAN FRANCISCO</td>\n      <td>Null</td>\n      <td>300</td>\n      <td>1</td>\n      <td>A012601</td>\n      <td>2.5196</td>\n      <td>162719.0</td>\n    </tr>\n    <tr>\n      <th>...</th>\n      <td>...</td>\n      <td>...</td>\n      <td>...</td>\n      <td>...</td>\n      <td>...</td>\n      <td>...</td>\n      <td>...</td>\n      <td>...</td>\n      <td>...</td>\n    </tr>\n    <tr>\n      <th>8732</th>\n      <td>3386</td>\n      <td>3387</td>\n      <td>SARMIENTO GUALLPA MANUEL LEONARDO</td>\n      <td>FINCA HERMANOS SARMIENTO</td>\n      <td>3386</td>\n      <td>3387</td>\n      <td>A012702</td>\n      <td>3.4956</td>\n      <td>20451.0</td>\n    </tr>\n    <tr>\n      <th>8733</th>\n      <td>3387</td>\n      <td>3388</td>\n      <td>PEREZ QUEZADA CARLOS FRANCISCO</td>\n      <td>Null</td>\n      <td>3387</td>\n      <td>3388</td>\n      <td>A012702</td>\n      <td>3.4956</td>\n      <td>20451.0</td>\n    </tr>\n    <tr>\n      <th>8734</th>\n      <td>3388</td>\n      <td>3389</td>\n      <td>LOPEZ VILLEGAS MILTON MARCELO</td>\n      <td>Null</td>\n      <td>3388</td>\n      <td>3389</td>\n      <td>A012702</td>\n      <td>3.4956</td>\n      <td>20451.0</td>\n    </tr>\n    <tr>\n      <th>8735</th>\n      <td>3389</td>\n      <td>3390</td>\n      <td>PILA PUJOTA SEGUNDO SANTOS</td>\n      <td>Null</td>\n      <td>3389</td>\n      <td>3390</td>\n      <td>A011903</td>\n      <td>0.5166</td>\n      <td>54512.0</td>\n    </tr>\n    <tr>\n      <th>8736</th>\n      <td>3390</td>\n      <td>3391</td>\n      <td>ZILOAGRO CIA LTDA</td>\n      <td>Null</td>\n      <td>3390</td>\n      <td>3391</td>\n      <td>A011112</td>\n      <td>0.4855</td>\n      <td>44191.0</td>\n    </tr>\n  </tbody>\n</table>\n<p>8737 rows × 9 columns</p>\n</div>"
     },
     "metadata": {},
     "execution_count": 69
    }
   ],
   "source": [
    "query =  \"\"\"\n",
    "SELECT \t*\n",
    "FROM productor p\n",
    "JOIN productorProducto pp ON p.productorID  = pp.productorID\n",
    "\"\"\"\n",
    "pd.read_sql_query(query, conn)"
   ]
  },
  {
   "cell_type": "code",
   "execution_count": null,
   "metadata": {},
   "outputs": [],
   "source": [
    "cursor.execute('''CREATE TABLE ContactEmployee(\n",
    "  ContactEmployeeID INTEGER PRIMARY KEY, \n",
    "  ContactID INTEGER, EmployeeID INTEGER, \n",
    "  ContactDate NUMERIC, \n",
    "  Description TEXT,  \n",
    "  FOREIGN KEY(ContactID) REFERENCES Contact(ContactID), \n",
    "  FOREIGN KEY(EmployeeID) REFERENCES Employee(EmployeeID))\n",
    "  ''')\n",
    "db.commit()"
   ]
  }
 ]
}